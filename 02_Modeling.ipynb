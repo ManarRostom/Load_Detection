{
 "cells": [
  {
   "cell_type": "markdown",
   "id": "6843098e",
   "metadata": {},
   "source": [
    "<center><span style=\"color:#b30000;font-size:40px;\"><strong>Modeling Phase </strong></span></center>\n",
    "</center>"
   ]
  },
  {
   "cell_type": "markdown",
   "id": "c8f5d5fe",
   "metadata": {},
   "source": [
    "<span style=\"color:#2929a3;font-size:20px;\">Import Libraries</span>"
   ]
  },
  {
   "cell_type": "code",
   "execution_count": 397,
   "id": "7b00836e",
   "metadata": {},
   "outputs": [],
   "source": [
    "import pandas as pd\n",
    "import numpy as np\n",
    "import plotly.express as px\n",
    "from imblearn.pipeline import pipeline as ImbPipe\n",
    "from imblearn.over_sampling import SMOTE\n",
    "from imblearn.combine import SMOTETomek\n",
    "from sklearn.preprocessing import OneHotEncoder, StandardScaler, RobustScaler, MinMaxScaler, FunctionTransformer\n",
    "from sklearn.impute import KNNImputer, SimpleImputer\n",
    "from sklearn.compose import ColumnTransformer\n",
    "from sklearn.pipeline import Pipeline\n",
    "from sklearn.model_selection import cross_validate\n",
    "from sklearn.linear_model import LogisticRegression\n",
    "from sklearn.neighbors import KNeighborsClassifier\n",
    "from sklearn.svm import SVC\n",
    "from sklearn.tree import DecisionTreeClassifier\n",
    "from sklearn.ensemble import RandomForestClassifier, VotingClassifier\n",
    "from xgboost import XGBClassifier"
   ]
  },
  {
   "cell_type": "markdown",
   "id": "53efb9ec",
   "metadata": {},
   "source": [
    "<span style=\"color:#2929a3;font-size:20px;\">Read Dataset</span>"
   ]
  },
  {
   "cell_type": "code",
   "execution_count": 398,
   "id": "7ed64c35",
   "metadata": {},
   "outputs": [
    {
     "data": {
      "text/html": [
       "<div>\n",
       "<style scoped>\n",
       "    .dataframe tbody tr th:only-of-type {\n",
       "        vertical-align: middle;\n",
       "    }\n",
       "\n",
       "    .dataframe tbody tr th {\n",
       "        vertical-align: top;\n",
       "    }\n",
       "\n",
       "    .dataframe thead th {\n",
       "        text-align: right;\n",
       "    }\n",
       "</style>\n",
       "<table border=\"1\" class=\"dataframe\">\n",
       "  <thead>\n",
       "    <tr style=\"text-align: right;\">\n",
       "      <th></th>\n",
       "      <th>Loan_ID</th>\n",
       "      <th>Gender</th>\n",
       "      <th>Married</th>\n",
       "      <th>Dependents</th>\n",
       "      <th>Education</th>\n",
       "      <th>Self_Employed</th>\n",
       "      <th>ApplicantIncome</th>\n",
       "      <th>CoapplicantIncome</th>\n",
       "      <th>LoanAmount</th>\n",
       "      <th>Loan_Amount_Term</th>\n",
       "      <th>Credit_History</th>\n",
       "      <th>Property_Area</th>\n",
       "      <th>Loan_Status</th>\n",
       "      <th>Loan_Per_Month</th>\n",
       "      <th>Income_After_Loan</th>\n",
       "      <th>Income_Exceeds_Loan</th>\n",
       "    </tr>\n",
       "  </thead>\n",
       "  <tbody>\n",
       "    <tr>\n",
       "      <th>0</th>\n",
       "      <td>LP001002</td>\n",
       "      <td>Male</td>\n",
       "      <td>No</td>\n",
       "      <td>0.0</td>\n",
       "      <td>Graduate</td>\n",
       "      <td>No</td>\n",
       "      <td>5849</td>\n",
       "      <td>0.0</td>\n",
       "      <td>NaN</td>\n",
       "      <td>360.0</td>\n",
       "      <td>1.0</td>\n",
       "      <td>Urban</td>\n",
       "      <td>Y</td>\n",
       "      <td>NaN</td>\n",
       "      <td>NaN</td>\n",
       "      <td>0</td>\n",
       "    </tr>\n",
       "    <tr>\n",
       "      <th>1</th>\n",
       "      <td>LP001003</td>\n",
       "      <td>Male</td>\n",
       "      <td>Yes</td>\n",
       "      <td>1.0</td>\n",
       "      <td>Graduate</td>\n",
       "      <td>No</td>\n",
       "      <td>4583</td>\n",
       "      <td>1508.0</td>\n",
       "      <td>128000.0</td>\n",
       "      <td>360.0</td>\n",
       "      <td>1.0</td>\n",
       "      <td>Rural</td>\n",
       "      <td>N</td>\n",
       "      <td>356.0</td>\n",
       "      <td>4227.0</td>\n",
       "      <td>1</td>\n",
       "    </tr>\n",
       "    <tr>\n",
       "      <th>2</th>\n",
       "      <td>LP001005</td>\n",
       "      <td>Male</td>\n",
       "      <td>Yes</td>\n",
       "      <td>0.0</td>\n",
       "      <td>Graduate</td>\n",
       "      <td>Yes</td>\n",
       "      <td>3000</td>\n",
       "      <td>0.0</td>\n",
       "      <td>66000.0</td>\n",
       "      <td>360.0</td>\n",
       "      <td>1.0</td>\n",
       "      <td>Urban</td>\n",
       "      <td>Y</td>\n",
       "      <td>183.0</td>\n",
       "      <td>2817.0</td>\n",
       "      <td>1</td>\n",
       "    </tr>\n",
       "    <tr>\n",
       "      <th>3</th>\n",
       "      <td>LP001006</td>\n",
       "      <td>Male</td>\n",
       "      <td>Yes</td>\n",
       "      <td>0.0</td>\n",
       "      <td>Not Graduate</td>\n",
       "      <td>No</td>\n",
       "      <td>2583</td>\n",
       "      <td>2358.0</td>\n",
       "      <td>120000.0</td>\n",
       "      <td>360.0</td>\n",
       "      <td>1.0</td>\n",
       "      <td>Urban</td>\n",
       "      <td>Y</td>\n",
       "      <td>333.0</td>\n",
       "      <td>2250.0</td>\n",
       "      <td>1</td>\n",
       "    </tr>\n",
       "    <tr>\n",
       "      <th>4</th>\n",
       "      <td>LP001008</td>\n",
       "      <td>Male</td>\n",
       "      <td>No</td>\n",
       "      <td>0.0</td>\n",
       "      <td>Graduate</td>\n",
       "      <td>No</td>\n",
       "      <td>6000</td>\n",
       "      <td>0.0</td>\n",
       "      <td>141000.0</td>\n",
       "      <td>360.0</td>\n",
       "      <td>1.0</td>\n",
       "      <td>Urban</td>\n",
       "      <td>Y</td>\n",
       "      <td>392.0</td>\n",
       "      <td>5608.0</td>\n",
       "      <td>1</td>\n",
       "    </tr>\n",
       "  </tbody>\n",
       "</table>\n",
       "</div>"
      ],
      "text/plain": [
       "    Loan_ID Gender Married  Dependents     Education Self_Employed  \\\n",
       "0  LP001002   Male      No         0.0      Graduate            No   \n",
       "1  LP001003   Male     Yes         1.0      Graduate            No   \n",
       "2  LP001005   Male     Yes         0.0      Graduate           Yes   \n",
       "3  LP001006   Male     Yes         0.0  Not Graduate            No   \n",
       "4  LP001008   Male      No         0.0      Graduate            No   \n",
       "\n",
       "   ApplicantIncome  CoapplicantIncome  LoanAmount  Loan_Amount_Term  \\\n",
       "0             5849                0.0         NaN             360.0   \n",
       "1             4583             1508.0    128000.0             360.0   \n",
       "2             3000                0.0     66000.0             360.0   \n",
       "3             2583             2358.0    120000.0             360.0   \n",
       "4             6000                0.0    141000.0             360.0   \n",
       "\n",
       "   Credit_History Property_Area Loan_Status  Loan_Per_Month  \\\n",
       "0             1.0         Urban           Y             NaN   \n",
       "1             1.0         Rural           N           356.0   \n",
       "2             1.0         Urban           Y           183.0   \n",
       "3             1.0         Urban           Y           333.0   \n",
       "4             1.0         Urban           Y           392.0   \n",
       "\n",
       "   Income_After_Loan  Income_Exceeds_Loan  \n",
       "0                NaN                    0  \n",
       "1             4227.0                    1  \n",
       "2             2817.0                    1  \n",
       "3             2250.0                    1  \n",
       "4             5608.0                    1  "
      ]
     },
     "execution_count": 398,
     "metadata": {},
     "output_type": "execute_result"
    }
   ],
   "source": [
    "df = pd.read_pickle('../Data/New_Data')\n",
    "df.head()"
   ]
  },
  {
   "cell_type": "code",
   "execution_count": 399,
   "id": "b75ff678",
   "metadata": {},
   "outputs": [
    {
     "data": {
      "text/plain": [
       "0"
      ]
     },
     "execution_count": 399,
     "metadata": {},
     "output_type": "execute_result"
    }
   ],
   "source": [
    "## Drop Unnecessary Columns\n",
    "unnecessary_cols = ['Loan_ID','ApplicantIncome','LoanAmount','Loan_Amount_Term']\n",
    "df.drop(unnecessary_cols, axis=1, inplace=True)\n",
    "\n",
    "## Check Duplicates\n",
    "df.duplicated().sum()"
   ]
  },
  {
   "cell_type": "code",
   "execution_count": 400,
   "id": "ec1b94b6",
   "metadata": {},
   "outputs": [],
   "source": [
    "## Seperate Data to X and Y\n",
    "X = df.drop('Loan_Status', axis=1)\n",
    "Y = df['Loan_Status']"
   ]
  },
  {
   "cell_type": "code",
   "execution_count": 401,
   "id": "48914109",
   "metadata": {},
   "outputs": [],
   "source": [
    "## Encode Target\n",
    "Y = Y.map({'Y':1, 'N':0})"
   ]
  },
  {
   "cell_type": "code",
   "execution_count": 402,
   "id": "3aecc769",
   "metadata": {},
   "outputs": [],
   "source": [
    "## Seperate X to Numeric Dataframe and Categorical Dataframe\n",
    "Num_X = X.select_dtypes(include='number')\n",
    "Cat_X = X.select_dtypes(include='object_')"
   ]
  },
  {
   "cell_type": "code",
   "execution_count": 403,
   "id": "9499b4a0",
   "metadata": {},
   "outputs": [],
   "source": [
    "## Create Get_Log Function\n",
    "def Get_Log(v):\n",
    "    return np.log(v.astype(float))"
   ]
  },
  {
   "cell_type": "code",
   "execution_count": 404,
   "id": "9503dc3a",
   "metadata": {},
   "outputs": [],
   "source": [
    "## Create Function transformer for obtaining Log \n",
    "log_transformer = FunctionTransformer(Get_Log)\n",
    "\n",
    "## Create Column transformer\n",
    "transformer = ColumnTransformer(transformers=[(\"log_transformer\", log_transformer, ['Loan_Per_Month','Income_After_Loan'])], remainder='passthrough')\n",
    "\n",
    "## Create Numerical Branch\n",
    "Num_steps = []\n",
    "Num_steps.append((\"transformer\", transformer))\n",
    "Num_steps.append((\"KNN_Imputer\",KNNImputer()))\n",
    "Num_steps.append((\"Scaler\",StandardScaler()))\n",
    "\n",
    "Num_pipeline = Pipeline(steps=Num_steps)"
   ]
  },
  {
   "cell_type": "code",
   "execution_count": 405,
   "id": "c10bb74f",
   "metadata": {},
   "outputs": [],
   "source": [
    "## Create Categorical Branch\n",
    "Cat_steps = []\n",
    "Cat_steps.append((\"Cat_Imputer\",SimpleImputer(strategy='most_frequent')))\n",
    "Cat_steps.append((\"Encoder\",OneHotEncoder(sparse_output=False, drop='first')))\n",
    "Cat_pipeline = Pipeline(steps=Cat_steps)"
   ]
  },
  {
   "cell_type": "code",
   "execution_count": 406,
   "id": "16b2d998",
   "metadata": {},
   "outputs": [],
   "source": [
    "## Column Transformer\n",
    "Preprocessor = ColumnTransformer(transformers=[('Num_pipeline',Num_pipeline,Num_X.columns.tolist()),('Cat_pipeline',Cat_pipeline,Cat_X.columns.tolist())], remainder='passthrough')"
   ]
  },
  {
   "cell_type": "code",
   "execution_count": 407,
   "id": "8483fbcc",
   "metadata": {},
   "outputs": [],
   "source": [
    "## Models List\n",
    "Models = []\n",
    "Models.append((\"Logistic Regression\", LogisticRegression(max_iter=1000)))\n",
    "Models.append((\"KNN\", KNeighborsClassifier(n_neighbors=5)))\n",
    "Models.append((\"SVM\",SVC()))\n",
    "Models.append((\"Decision Tree\", DecisionTreeClassifier()))\n",
    "Models.append((\"Random Forest\",RandomForestClassifier()))\n",
    "Models.append((\"XGBoost\", XGBClassifier()))"
   ]
  },
  {
   "cell_type": "code",
   "execution_count": 408,
   "id": "55b4e0fe",
   "metadata": {},
   "outputs": [
    {
     "data": {
      "text/plain": [
       "Loan_Status\n",
       "1    422\n",
       "0    191\n",
       "Name: count, dtype: int64"
      ]
     },
     "execution_count": 408,
     "metadata": {},
     "output_type": "execute_result"
    }
   ],
   "source": [
    "Y.value_counts()"
   ]
  },
  {
   "cell_type": "code",
   "execution_count": 409,
   "id": "a2b2234c",
   "metadata": {},
   "outputs": [],
   "source": [
    "from imblearn.pipeline import Pipeline as ImbPipe"
   ]
  },
  {
   "cell_type": "code",
   "execution_count": 410,
   "id": "06e0b008",
   "metadata": {},
   "outputs": [
    {
     "name": "stdout",
     "output_type": "stream",
     "text": [
      "Train Accuracy of Logistic Regression is  0.8064034937428721\n",
      "Test Accuracy of Logistic Regression is  0.8029480231423953\n",
      "**********************************************************************\n",
      "Train Accuracy of KNN is  0.8962004088522388\n",
      "Test Accuracy of KNN is  0.7882787243665217\n",
      "**********************************************************************\n",
      "Train Accuracy of SVM is  0.8073347446730577\n",
      "Test Accuracy of SVM is  0.7918902080238885\n",
      "**********************************************************************\n",
      "Train Accuracy of Decision Tree is  0.9772238433815449\n",
      "Test Accuracy of Decision Tree is  0.7960828842554859\n",
      "**********************************************************************\n",
      "Train Accuracy of Random Forest is  0.9727751378232078\n",
      "Test Accuracy of Random Forest is  0.7963171106956896\n",
      "**********************************************************************\n",
      "Train Accuracy of XGBoost is  0.9732999566089964\n",
      "Test Accuracy of XGBoost is  0.7884512357078733\n",
      "**********************************************************************\n"
     ]
    }
   ],
   "source": [
    "## Final Pipeline\n",
    "for model in Models:\n",
    "    imb_steps = []\n",
    "    imb_steps.append(('Preprocessor',Preprocessor))\n",
    "    imb_steps.append((\"SMOTETomek\",SMOTETomek(sampling_strategy={0:300,1:422}, random_state=1)))\n",
    "    imb_steps.append(model)\n",
    "    pipeline = ImbPipe(imb_steps)\n",
    "    res = cross_validate(pipeline, X, Y, cv=5, scoring='precision', return_train_score=True, n_jobs=-1)\n",
    "    print(f\"Train Accuracy of {model[0]} is \",res['train_score'].mean())\n",
    "    print(f\"Test Accuracy of {model[0]} is \",res['test_score'].mean())\n",
    "    print(\"*\" * 70)"
   ]
  },
  {
   "cell_type": "markdown",
   "id": "ca42c855",
   "metadata": {},
   "source": [
    "<span style=\"color:#2929a3;font-size:20px;\">Create Decision Tree Pipeline</span>"
   ]
  },
  {
   "cell_type": "code",
   "execution_count": 411,
   "id": "a3783a86",
   "metadata": {},
   "outputs": [
    {
     "name": "stderr",
     "output_type": "stream",
     "text": [
      "C:\\Users\\NOTEBOOK\\anaconda3\\envs\\ML\\lib\\site-packages\\pandas\\core\\internals\\blocks.py:366: RuntimeWarning: invalid value encountered in log\n",
      "  result = func(self.values, **kwargs)\n"
     ]
    },
    {
     "data": {
      "text/html": [
       "<style>#sk-container-id-42 {color: black;background-color: white;}#sk-container-id-42 pre{padding: 0;}#sk-container-id-42 div.sk-toggleable {background-color: white;}#sk-container-id-42 label.sk-toggleable__label {cursor: pointer;display: block;width: 100%;margin-bottom: 0;padding: 0.3em;box-sizing: border-box;text-align: center;}#sk-container-id-42 label.sk-toggleable__label-arrow:before {content: \"▸\";float: left;margin-right: 0.25em;color: #696969;}#sk-container-id-42 label.sk-toggleable__label-arrow:hover:before {color: black;}#sk-container-id-42 div.sk-estimator:hover label.sk-toggleable__label-arrow:before {color: black;}#sk-container-id-42 div.sk-toggleable__content {max-height: 0;max-width: 0;overflow: hidden;text-align: left;background-color: #f0f8ff;}#sk-container-id-42 div.sk-toggleable__content pre {margin: 0.2em;color: black;border-radius: 0.25em;background-color: #f0f8ff;}#sk-container-id-42 input.sk-toggleable__control:checked~div.sk-toggleable__content {max-height: 200px;max-width: 100%;overflow: auto;}#sk-container-id-42 input.sk-toggleable__control:checked~label.sk-toggleable__label-arrow:before {content: \"▾\";}#sk-container-id-42 div.sk-estimator input.sk-toggleable__control:checked~label.sk-toggleable__label {background-color: #d4ebff;}#sk-container-id-42 div.sk-label input.sk-toggleable__control:checked~label.sk-toggleable__label {background-color: #d4ebff;}#sk-container-id-42 input.sk-hidden--visually {border: 0;clip: rect(1px 1px 1px 1px);clip: rect(1px, 1px, 1px, 1px);height: 1px;margin: -1px;overflow: hidden;padding: 0;position: absolute;width: 1px;}#sk-container-id-42 div.sk-estimator {font-family: monospace;background-color: #f0f8ff;border: 1px dotted black;border-radius: 0.25em;box-sizing: border-box;margin-bottom: 0.5em;}#sk-container-id-42 div.sk-estimator:hover {background-color: #d4ebff;}#sk-container-id-42 div.sk-parallel-item::after {content: \"\";width: 100%;border-bottom: 1px solid gray;flex-grow: 1;}#sk-container-id-42 div.sk-label:hover label.sk-toggleable__label {background-color: #d4ebff;}#sk-container-id-42 div.sk-serial::before {content: \"\";position: absolute;border-left: 1px solid gray;box-sizing: border-box;top: 0;bottom: 0;left: 50%;z-index: 0;}#sk-container-id-42 div.sk-serial {display: flex;flex-direction: column;align-items: center;background-color: white;padding-right: 0.2em;padding-left: 0.2em;position: relative;}#sk-container-id-42 div.sk-item {position: relative;z-index: 1;}#sk-container-id-42 div.sk-parallel {display: flex;align-items: stretch;justify-content: center;background-color: white;position: relative;}#sk-container-id-42 div.sk-item::before, #sk-container-id-42 div.sk-parallel-item::before {content: \"\";position: absolute;border-left: 1px solid gray;box-sizing: border-box;top: 0;bottom: 0;left: 50%;z-index: -1;}#sk-container-id-42 div.sk-parallel-item {display: flex;flex-direction: column;z-index: 1;position: relative;background-color: white;}#sk-container-id-42 div.sk-parallel-item:first-child::after {align-self: flex-end;width: 50%;}#sk-container-id-42 div.sk-parallel-item:last-child::after {align-self: flex-start;width: 50%;}#sk-container-id-42 div.sk-parallel-item:only-child::after {width: 0;}#sk-container-id-42 div.sk-dashed-wrapped {border: 1px dashed gray;margin: 0 0.4em 0.5em 0.4em;box-sizing: border-box;padding-bottom: 0.4em;background-color: white;}#sk-container-id-42 div.sk-label label {font-family: monospace;font-weight: bold;display: inline-block;line-height: 1.2em;}#sk-container-id-42 div.sk-label-container {text-align: center;}#sk-container-id-42 div.sk-container {/* jupyter's `normalize.less` sets `[hidden] { display: none; }` but bootstrap.min.css set `[hidden] { display: none !important; }` so we also need the `!important` here to be able to override the default hidden behavior on the sphinx rendered scikit-learn.org. See: https://github.com/scikit-learn/scikit-learn/issues/21755 */display: inline-block !important;position: relative;}#sk-container-id-42 div.sk-text-repr-fallback {display: none;}</style><div id=\"sk-container-id-42\" class=\"sk-top-container\"><div class=\"sk-text-repr-fallback\"><pre>Pipeline(steps=[(&#x27;Preprocessor&#x27;,\n",
       "                 ColumnTransformer(remainder=&#x27;passthrough&#x27;,\n",
       "                                   transformers=[(&#x27;Num_pipeline&#x27;,\n",
       "                                                  Pipeline(steps=[(&#x27;transformer&#x27;,\n",
       "                                                                   ColumnTransformer(remainder=&#x27;passthrough&#x27;,\n",
       "                                                                                     transformers=[(&#x27;log_transformer&#x27;,\n",
       "                                                                                                    FunctionTransformer(func=&lt;function Get_Log at 0x000001BF48E083A0&gt;),\n",
       "                                                                                                    [&#x27;Loan_Per_Month&#x27;,\n",
       "                                                                                                     &#x27;Income_After_Loan&#x27;])])),\n",
       "                                                                  (&#x27;KNN_Imputer&#x27;,\n",
       "                                                                   KNNImputer()),\n",
       "                                                                  (&#x27;Sc...\n",
       "                                                   &#x27;Income_Exceeds_Loan&#x27;]),\n",
       "                                                 (&#x27;Cat_pipeline&#x27;,\n",
       "                                                  Pipeline(steps=[(&#x27;Cat_Imputer&#x27;,\n",
       "                                                                   SimpleImputer(strategy=&#x27;most_frequent&#x27;)),\n",
       "                                                                  (&#x27;Encoder&#x27;,\n",
       "                                                                   OneHotEncoder(drop=&#x27;first&#x27;,\n",
       "                                                                                 sparse_output=False))]),\n",
       "                                                  [&#x27;Gender&#x27;, &#x27;Married&#x27;,\n",
       "                                                   &#x27;Education&#x27;, &#x27;Self_Employed&#x27;,\n",
       "                                                   &#x27;Property_Area&#x27;])])),\n",
       "                (&#x27;SMOTETomek&#x27;,\n",
       "                 SMOTETomek(random_state=1,\n",
       "                            sampling_strategy={0: 300, 1: 422})),\n",
       "                (&#x27;Model&#x27;, DecisionTreeClassifier())])</pre><b>In a Jupyter environment, please rerun this cell to show the HTML representation or trust the notebook. <br />On GitHub, the HTML representation is unable to render, please try loading this page with nbviewer.org.</b></div><div class=\"sk-container\" hidden><div class=\"sk-item sk-dashed-wrapped\"><div class=\"sk-label-container\"><div class=\"sk-label sk-toggleable\"><input class=\"sk-toggleable__control sk-hidden--visually\" id=\"sk-estimator-id-634\" type=\"checkbox\" ><label for=\"sk-estimator-id-634\" class=\"sk-toggleable__label sk-toggleable__label-arrow\">Pipeline</label><div class=\"sk-toggleable__content\"><pre>Pipeline(steps=[(&#x27;Preprocessor&#x27;,\n",
       "                 ColumnTransformer(remainder=&#x27;passthrough&#x27;,\n",
       "                                   transformers=[(&#x27;Num_pipeline&#x27;,\n",
       "                                                  Pipeline(steps=[(&#x27;transformer&#x27;,\n",
       "                                                                   ColumnTransformer(remainder=&#x27;passthrough&#x27;,\n",
       "                                                                                     transformers=[(&#x27;log_transformer&#x27;,\n",
       "                                                                                                    FunctionTransformer(func=&lt;function Get_Log at 0x000001BF48E083A0&gt;),\n",
       "                                                                                                    [&#x27;Loan_Per_Month&#x27;,\n",
       "                                                                                                     &#x27;Income_After_Loan&#x27;])])),\n",
       "                                                                  (&#x27;KNN_Imputer&#x27;,\n",
       "                                                                   KNNImputer()),\n",
       "                                                                  (&#x27;Sc...\n",
       "                                                   &#x27;Income_Exceeds_Loan&#x27;]),\n",
       "                                                 (&#x27;Cat_pipeline&#x27;,\n",
       "                                                  Pipeline(steps=[(&#x27;Cat_Imputer&#x27;,\n",
       "                                                                   SimpleImputer(strategy=&#x27;most_frequent&#x27;)),\n",
       "                                                                  (&#x27;Encoder&#x27;,\n",
       "                                                                   OneHotEncoder(drop=&#x27;first&#x27;,\n",
       "                                                                                 sparse_output=False))]),\n",
       "                                                  [&#x27;Gender&#x27;, &#x27;Married&#x27;,\n",
       "                                                   &#x27;Education&#x27;, &#x27;Self_Employed&#x27;,\n",
       "                                                   &#x27;Property_Area&#x27;])])),\n",
       "                (&#x27;SMOTETomek&#x27;,\n",
       "                 SMOTETomek(random_state=1,\n",
       "                            sampling_strategy={0: 300, 1: 422})),\n",
       "                (&#x27;Model&#x27;, DecisionTreeClassifier())])</pre></div></div></div><div class=\"sk-serial\"><div class=\"sk-item sk-dashed-wrapped\"><div class=\"sk-label-container\"><div class=\"sk-label sk-toggleable\"><input class=\"sk-toggleable__control sk-hidden--visually\" id=\"sk-estimator-id-635\" type=\"checkbox\" ><label for=\"sk-estimator-id-635\" class=\"sk-toggleable__label sk-toggleable__label-arrow\">Preprocessor: ColumnTransformer</label><div class=\"sk-toggleable__content\"><pre>ColumnTransformer(remainder=&#x27;passthrough&#x27;,\n",
       "                  transformers=[(&#x27;Num_pipeline&#x27;,\n",
       "                                 Pipeline(steps=[(&#x27;transformer&#x27;,\n",
       "                                                  ColumnTransformer(remainder=&#x27;passthrough&#x27;,\n",
       "                                                                    transformers=[(&#x27;log_transformer&#x27;,\n",
       "                                                                                   FunctionTransformer(func=&lt;function Get_Log at 0x000001BF48E083A0&gt;),\n",
       "                                                                                   [&#x27;Loan_Per_Month&#x27;,\n",
       "                                                                                    &#x27;Income_After_Loan&#x27;])])),\n",
       "                                                 (&#x27;KNN_Imputer&#x27;, KNNImputer()),\n",
       "                                                 (&#x27;Scaler&#x27;, StandardScaler())]),\n",
       "                                 [&#x27;Dependents&#x27;, &#x27;CoapplicantIncome&#x27;,\n",
       "                                  &#x27;Credit_History&#x27;, &#x27;Loan_Per_Month&#x27;,\n",
       "                                  &#x27;Income_After_Loan&#x27;, &#x27;Income_Exceeds_Loan&#x27;]),\n",
       "                                (&#x27;Cat_pipeline&#x27;,\n",
       "                                 Pipeline(steps=[(&#x27;Cat_Imputer&#x27;,\n",
       "                                                  SimpleImputer(strategy=&#x27;most_frequent&#x27;)),\n",
       "                                                 (&#x27;Encoder&#x27;,\n",
       "                                                  OneHotEncoder(drop=&#x27;first&#x27;,\n",
       "                                                                sparse_output=False))]),\n",
       "                                 [&#x27;Gender&#x27;, &#x27;Married&#x27;, &#x27;Education&#x27;,\n",
       "                                  &#x27;Self_Employed&#x27;, &#x27;Property_Area&#x27;])])</pre></div></div></div><div class=\"sk-parallel\"><div class=\"sk-parallel-item\"><div class=\"sk-item\"><div class=\"sk-label-container\"><div class=\"sk-label sk-toggleable\"><input class=\"sk-toggleable__control sk-hidden--visually\" id=\"sk-estimator-id-636\" type=\"checkbox\" ><label for=\"sk-estimator-id-636\" class=\"sk-toggleable__label sk-toggleable__label-arrow\">Num_pipeline</label><div class=\"sk-toggleable__content\"><pre>[&#x27;Dependents&#x27;, &#x27;CoapplicantIncome&#x27;, &#x27;Credit_History&#x27;, &#x27;Loan_Per_Month&#x27;, &#x27;Income_After_Loan&#x27;, &#x27;Income_Exceeds_Loan&#x27;]</pre></div></div></div><div class=\"sk-serial\"><div class=\"sk-item\"><div class=\"sk-serial\"><div class=\"sk-item sk-dashed-wrapped\"><div class=\"sk-label-container\"><div class=\"sk-label sk-toggleable\"><input class=\"sk-toggleable__control sk-hidden--visually\" id=\"sk-estimator-id-637\" type=\"checkbox\" ><label for=\"sk-estimator-id-637\" class=\"sk-toggleable__label sk-toggleable__label-arrow\">transformer: ColumnTransformer</label><div class=\"sk-toggleable__content\"><pre>ColumnTransformer(remainder=&#x27;passthrough&#x27;,\n",
       "                  transformers=[(&#x27;log_transformer&#x27;,\n",
       "                                 FunctionTransformer(func=&lt;function Get_Log at 0x000001BF48E083A0&gt;),\n",
       "                                 [&#x27;Loan_Per_Month&#x27;, &#x27;Income_After_Loan&#x27;])])</pre></div></div></div><div class=\"sk-parallel\"><div class=\"sk-parallel-item\"><div class=\"sk-item\"><div class=\"sk-label-container\"><div class=\"sk-label sk-toggleable\"><input class=\"sk-toggleable__control sk-hidden--visually\" id=\"sk-estimator-id-638\" type=\"checkbox\" ><label for=\"sk-estimator-id-638\" class=\"sk-toggleable__label sk-toggleable__label-arrow\">log_transformer</label><div class=\"sk-toggleable__content\"><pre>[&#x27;Loan_Per_Month&#x27;, &#x27;Income_After_Loan&#x27;]</pre></div></div></div><div class=\"sk-serial\"><div class=\"sk-item\"><div class=\"sk-estimator sk-toggleable\"><input class=\"sk-toggleable__control sk-hidden--visually\" id=\"sk-estimator-id-639\" type=\"checkbox\" ><label for=\"sk-estimator-id-639\" class=\"sk-toggleable__label sk-toggleable__label-arrow\">FunctionTransformer</label><div class=\"sk-toggleable__content\"><pre>FunctionTransformer(func=&lt;function Get_Log at 0x000001BF48E083A0&gt;)</pre></div></div></div></div></div></div><div class=\"sk-parallel-item\"><div class=\"sk-item\"><div class=\"sk-label-container\"><div class=\"sk-label sk-toggleable\"><input class=\"sk-toggleable__control sk-hidden--visually\" id=\"sk-estimator-id-640\" type=\"checkbox\" ><label for=\"sk-estimator-id-640\" class=\"sk-toggleable__label sk-toggleable__label-arrow\">remainder</label><div class=\"sk-toggleable__content\"><pre></pre></div></div></div><div class=\"sk-serial\"><div class=\"sk-item\"><div class=\"sk-estimator sk-toggleable\"><input class=\"sk-toggleable__control sk-hidden--visually\" id=\"sk-estimator-id-641\" type=\"checkbox\" ><label for=\"sk-estimator-id-641\" class=\"sk-toggleable__label sk-toggleable__label-arrow\">passthrough</label><div class=\"sk-toggleable__content\"><pre>passthrough</pre></div></div></div></div></div></div></div></div><div class=\"sk-item\"><div class=\"sk-estimator sk-toggleable\"><input class=\"sk-toggleable__control sk-hidden--visually\" id=\"sk-estimator-id-642\" type=\"checkbox\" ><label for=\"sk-estimator-id-642\" class=\"sk-toggleable__label sk-toggleable__label-arrow\">KNNImputer</label><div class=\"sk-toggleable__content\"><pre>KNNImputer()</pre></div></div></div><div class=\"sk-item\"><div class=\"sk-estimator sk-toggleable\"><input class=\"sk-toggleable__control sk-hidden--visually\" id=\"sk-estimator-id-643\" type=\"checkbox\" ><label for=\"sk-estimator-id-643\" class=\"sk-toggleable__label sk-toggleable__label-arrow\">StandardScaler</label><div class=\"sk-toggleable__content\"><pre>StandardScaler()</pre></div></div></div></div></div></div></div></div><div class=\"sk-parallel-item\"><div class=\"sk-item\"><div class=\"sk-label-container\"><div class=\"sk-label sk-toggleable\"><input class=\"sk-toggleable__control sk-hidden--visually\" id=\"sk-estimator-id-644\" type=\"checkbox\" ><label for=\"sk-estimator-id-644\" class=\"sk-toggleable__label sk-toggleable__label-arrow\">Cat_pipeline</label><div class=\"sk-toggleable__content\"><pre>[&#x27;Gender&#x27;, &#x27;Married&#x27;, &#x27;Education&#x27;, &#x27;Self_Employed&#x27;, &#x27;Property_Area&#x27;]</pre></div></div></div><div class=\"sk-serial\"><div class=\"sk-item\"><div class=\"sk-serial\"><div class=\"sk-item\"><div class=\"sk-estimator sk-toggleable\"><input class=\"sk-toggleable__control sk-hidden--visually\" id=\"sk-estimator-id-645\" type=\"checkbox\" ><label for=\"sk-estimator-id-645\" class=\"sk-toggleable__label sk-toggleable__label-arrow\">SimpleImputer</label><div class=\"sk-toggleable__content\"><pre>SimpleImputer(strategy=&#x27;most_frequent&#x27;)</pre></div></div></div><div class=\"sk-item\"><div class=\"sk-estimator sk-toggleable\"><input class=\"sk-toggleable__control sk-hidden--visually\" id=\"sk-estimator-id-646\" type=\"checkbox\" ><label for=\"sk-estimator-id-646\" class=\"sk-toggleable__label sk-toggleable__label-arrow\">OneHotEncoder</label><div class=\"sk-toggleable__content\"><pre>OneHotEncoder(drop=&#x27;first&#x27;, sparse_output=False)</pre></div></div></div></div></div></div></div></div><div class=\"sk-parallel-item\"><div class=\"sk-item\"><div class=\"sk-label-container\"><div class=\"sk-label sk-toggleable\"><input class=\"sk-toggleable__control sk-hidden--visually\" id=\"sk-estimator-id-647\" type=\"checkbox\" ><label for=\"sk-estimator-id-647\" class=\"sk-toggleable__label sk-toggleable__label-arrow\">remainder</label><div class=\"sk-toggleable__content\"><pre>[]</pre></div></div></div><div class=\"sk-serial\"><div class=\"sk-item\"><div class=\"sk-estimator sk-toggleable\"><input class=\"sk-toggleable__control sk-hidden--visually\" id=\"sk-estimator-id-648\" type=\"checkbox\" ><label for=\"sk-estimator-id-648\" class=\"sk-toggleable__label sk-toggleable__label-arrow\">passthrough</label><div class=\"sk-toggleable__content\"><pre>passthrough</pre></div></div></div></div></div></div></div></div><div class=\"sk-item\"><div class=\"sk-estimator sk-toggleable\"><input class=\"sk-toggleable__control sk-hidden--visually\" id=\"sk-estimator-id-649\" type=\"checkbox\" ><label for=\"sk-estimator-id-649\" class=\"sk-toggleable__label sk-toggleable__label-arrow\">SMOTETomek</label><div class=\"sk-toggleable__content\"><pre>SMOTETomek(random_state=1, sampling_strategy={0: 300, 1: 422})</pre></div></div></div><div class=\"sk-item\"><div class=\"sk-estimator sk-toggleable\"><input class=\"sk-toggleable__control sk-hidden--visually\" id=\"sk-estimator-id-650\" type=\"checkbox\" ><label for=\"sk-estimator-id-650\" class=\"sk-toggleable__label sk-toggleable__label-arrow\">DecisionTreeClassifier</label><div class=\"sk-toggleable__content\"><pre>DecisionTreeClassifier()</pre></div></div></div></div></div></div></div>"
      ],
      "text/plain": [
       "Pipeline(steps=[('Preprocessor',\n",
       "                 ColumnTransformer(remainder='passthrough',\n",
       "                                   transformers=[('Num_pipeline',\n",
       "                                                  Pipeline(steps=[('transformer',\n",
       "                                                                   ColumnTransformer(remainder='passthrough',\n",
       "                                                                                     transformers=[('log_transformer',\n",
       "                                                                                                    FunctionTransformer(func=<function Get_Log at 0x000001BF48E083A0>),\n",
       "                                                                                                    ['Loan_Per_Month',\n",
       "                                                                                                     'Income_After_Loan'])])),\n",
       "                                                                  ('KNN_Imputer',\n",
       "                                                                   KNNImputer()),\n",
       "                                                                  ('Sc...\n",
       "                                                   'Income_Exceeds_Loan']),\n",
       "                                                 ('Cat_pipeline',\n",
       "                                                  Pipeline(steps=[('Cat_Imputer',\n",
       "                                                                   SimpleImputer(strategy='most_frequent')),\n",
       "                                                                  ('Encoder',\n",
       "                                                                   OneHotEncoder(drop='first',\n",
       "                                                                                 sparse_output=False))]),\n",
       "                                                  ['Gender', 'Married',\n",
       "                                                   'Education', 'Self_Employed',\n",
       "                                                   'Property_Area'])])),\n",
       "                ('SMOTETomek',\n",
       "                 SMOTETomek(random_state=1,\n",
       "                            sampling_strategy={0: 300, 1: 422})),\n",
       "                ('Model', DecisionTreeClassifier())])"
      ]
     },
     "execution_count": 411,
     "metadata": {},
     "output_type": "execute_result"
    }
   ],
   "source": [
    "steps = []\n",
    "steps.append(('Preprocessor',Preprocessor))\n",
    "steps.append((\"SMOTETomek\",SMOTETomek(sampling_strategy={0:300,1:422}, random_state=1)))\n",
    "steps.append((\"Model\",DecisionTreeClassifier()))\n",
    "pipeline = ImbPipe(steps=steps)\n",
    "pipeline.fit(X,Y)"
   ]
  },
  {
   "cell_type": "markdown",
   "id": "cf21d085",
   "metadata": {},
   "source": [
    "<span style=\"color:#2929a3;font-size:20px;\">Hyperparameter Tuning</span>"
   ]
  },
  {
   "cell_type": "code",
   "execution_count": 412,
   "id": "218f4f09",
   "metadata": {},
   "outputs": [],
   "source": [
    "from sklearn.model_selection import GridSearchCV"
   ]
  },
  {
   "cell_type": "code",
   "execution_count": 413,
   "id": "ab363a7b",
   "metadata": {},
   "outputs": [],
   "source": [
    "param = [\n",
    "    {'Model__max_depth':[8,9,10,11],\n",
    "     'Model__min_samples_split':[6,7,8,9,10,11],\n",
    "    'Model__criterion':['gini','entropy']}\n",
    "]"
   ]
  },
  {
   "cell_type": "code",
   "execution_count": 414,
   "id": "d2791fda",
   "metadata": {},
   "outputs": [],
   "source": [
    "grid = GridSearchCV(estimator=pipeline, param_grid=param, cv=5, scoring='precision' , return_train_score=True, n_jobs=-1)"
   ]
  },
  {
   "cell_type": "code",
   "execution_count": 415,
   "id": "736e37db",
   "metadata": {},
   "outputs": [
    {
     "name": "stderr",
     "output_type": "stream",
     "text": [
      "C:\\Users\\NOTEBOOK\\anaconda3\\envs\\ML\\lib\\site-packages\\pandas\\core\\internals\\blocks.py:366: RuntimeWarning: invalid value encountered in log\n",
      "  result = func(self.values, **kwargs)\n"
     ]
    },
    {
     "data": {
      "text/html": [
       "<style>#sk-container-id-43 {color: black;background-color: white;}#sk-container-id-43 pre{padding: 0;}#sk-container-id-43 div.sk-toggleable {background-color: white;}#sk-container-id-43 label.sk-toggleable__label {cursor: pointer;display: block;width: 100%;margin-bottom: 0;padding: 0.3em;box-sizing: border-box;text-align: center;}#sk-container-id-43 label.sk-toggleable__label-arrow:before {content: \"▸\";float: left;margin-right: 0.25em;color: #696969;}#sk-container-id-43 label.sk-toggleable__label-arrow:hover:before {color: black;}#sk-container-id-43 div.sk-estimator:hover label.sk-toggleable__label-arrow:before {color: black;}#sk-container-id-43 div.sk-toggleable__content {max-height: 0;max-width: 0;overflow: hidden;text-align: left;background-color: #f0f8ff;}#sk-container-id-43 div.sk-toggleable__content pre {margin: 0.2em;color: black;border-radius: 0.25em;background-color: #f0f8ff;}#sk-container-id-43 input.sk-toggleable__control:checked~div.sk-toggleable__content {max-height: 200px;max-width: 100%;overflow: auto;}#sk-container-id-43 input.sk-toggleable__control:checked~label.sk-toggleable__label-arrow:before {content: \"▾\";}#sk-container-id-43 div.sk-estimator input.sk-toggleable__control:checked~label.sk-toggleable__label {background-color: #d4ebff;}#sk-container-id-43 div.sk-label input.sk-toggleable__control:checked~label.sk-toggleable__label {background-color: #d4ebff;}#sk-container-id-43 input.sk-hidden--visually {border: 0;clip: rect(1px 1px 1px 1px);clip: rect(1px, 1px, 1px, 1px);height: 1px;margin: -1px;overflow: hidden;padding: 0;position: absolute;width: 1px;}#sk-container-id-43 div.sk-estimator {font-family: monospace;background-color: #f0f8ff;border: 1px dotted black;border-radius: 0.25em;box-sizing: border-box;margin-bottom: 0.5em;}#sk-container-id-43 div.sk-estimator:hover {background-color: #d4ebff;}#sk-container-id-43 div.sk-parallel-item::after {content: \"\";width: 100%;border-bottom: 1px solid gray;flex-grow: 1;}#sk-container-id-43 div.sk-label:hover label.sk-toggleable__label {background-color: #d4ebff;}#sk-container-id-43 div.sk-serial::before {content: \"\";position: absolute;border-left: 1px solid gray;box-sizing: border-box;top: 0;bottom: 0;left: 50%;z-index: 0;}#sk-container-id-43 div.sk-serial {display: flex;flex-direction: column;align-items: center;background-color: white;padding-right: 0.2em;padding-left: 0.2em;position: relative;}#sk-container-id-43 div.sk-item {position: relative;z-index: 1;}#sk-container-id-43 div.sk-parallel {display: flex;align-items: stretch;justify-content: center;background-color: white;position: relative;}#sk-container-id-43 div.sk-item::before, #sk-container-id-43 div.sk-parallel-item::before {content: \"\";position: absolute;border-left: 1px solid gray;box-sizing: border-box;top: 0;bottom: 0;left: 50%;z-index: -1;}#sk-container-id-43 div.sk-parallel-item {display: flex;flex-direction: column;z-index: 1;position: relative;background-color: white;}#sk-container-id-43 div.sk-parallel-item:first-child::after {align-self: flex-end;width: 50%;}#sk-container-id-43 div.sk-parallel-item:last-child::after {align-self: flex-start;width: 50%;}#sk-container-id-43 div.sk-parallel-item:only-child::after {width: 0;}#sk-container-id-43 div.sk-dashed-wrapped {border: 1px dashed gray;margin: 0 0.4em 0.5em 0.4em;box-sizing: border-box;padding-bottom: 0.4em;background-color: white;}#sk-container-id-43 div.sk-label label {font-family: monospace;font-weight: bold;display: inline-block;line-height: 1.2em;}#sk-container-id-43 div.sk-label-container {text-align: center;}#sk-container-id-43 div.sk-container {/* jupyter's `normalize.less` sets `[hidden] { display: none; }` but bootstrap.min.css set `[hidden] { display: none !important; }` so we also need the `!important` here to be able to override the default hidden behavior on the sphinx rendered scikit-learn.org. See: https://github.com/scikit-learn/scikit-learn/issues/21755 */display: inline-block !important;position: relative;}#sk-container-id-43 div.sk-text-repr-fallback {display: none;}</style><div id=\"sk-container-id-43\" class=\"sk-top-container\"><div class=\"sk-text-repr-fallback\"><pre>GridSearchCV(cv=5,\n",
       "             estimator=Pipeline(steps=[(&#x27;Preprocessor&#x27;,\n",
       "                                        ColumnTransformer(remainder=&#x27;passthrough&#x27;,\n",
       "                                                          transformers=[(&#x27;Num_pipeline&#x27;,\n",
       "                                                                         Pipeline(steps=[(&#x27;transformer&#x27;,\n",
       "                                                                                          ColumnTransformer(remainder=&#x27;passthrough&#x27;,\n",
       "                                                                                                            transformers=[(&#x27;log_transformer&#x27;,\n",
       "                                                                                                                           FunctionTransformer(func=&lt;function Get_Log at 0x000001BF48E083A0&gt;),\n",
       "                                                                                                                           [&#x27;Loan_Per_Month&#x27;,\n",
       "                                                                                                                            &#x27;Income_After_Loan&#x27;])])),\n",
       "                                                                                         (&#x27;KNN...\n",
       "                                                                          &#x27;Married&#x27;,\n",
       "                                                                          &#x27;Education&#x27;,\n",
       "                                                                          &#x27;Self_Employed&#x27;,\n",
       "                                                                          &#x27;Property_Area&#x27;])])),\n",
       "                                       (&#x27;SMOTETomek&#x27;,\n",
       "                                        SMOTETomek(random_state=1,\n",
       "                                                   sampling_strategy={0: 300,\n",
       "                                                                      1: 422})),\n",
       "                                       (&#x27;Model&#x27;, DecisionTreeClassifier())]),\n",
       "             n_jobs=-1,\n",
       "             param_grid=[{&#x27;Model__criterion&#x27;: [&#x27;gini&#x27;, &#x27;entropy&#x27;],\n",
       "                          &#x27;Model__max_depth&#x27;: [8, 9, 10, 11],\n",
       "                          &#x27;Model__min_samples_split&#x27;: [6, 7, 8, 9, 10, 11]}],\n",
       "             return_train_score=True, scoring=&#x27;precision&#x27;)</pre><b>In a Jupyter environment, please rerun this cell to show the HTML representation or trust the notebook. <br />On GitHub, the HTML representation is unable to render, please try loading this page with nbviewer.org.</b></div><div class=\"sk-container\" hidden><div class=\"sk-item sk-dashed-wrapped\"><div class=\"sk-label-container\"><div class=\"sk-label sk-toggleable\"><input class=\"sk-toggleable__control sk-hidden--visually\" id=\"sk-estimator-id-651\" type=\"checkbox\" ><label for=\"sk-estimator-id-651\" class=\"sk-toggleable__label sk-toggleable__label-arrow\">GridSearchCV</label><div class=\"sk-toggleable__content\"><pre>GridSearchCV(cv=5,\n",
       "             estimator=Pipeline(steps=[(&#x27;Preprocessor&#x27;,\n",
       "                                        ColumnTransformer(remainder=&#x27;passthrough&#x27;,\n",
       "                                                          transformers=[(&#x27;Num_pipeline&#x27;,\n",
       "                                                                         Pipeline(steps=[(&#x27;transformer&#x27;,\n",
       "                                                                                          ColumnTransformer(remainder=&#x27;passthrough&#x27;,\n",
       "                                                                                                            transformers=[(&#x27;log_transformer&#x27;,\n",
       "                                                                                                                           FunctionTransformer(func=&lt;function Get_Log at 0x000001BF48E083A0&gt;),\n",
       "                                                                                                                           [&#x27;Loan_Per_Month&#x27;,\n",
       "                                                                                                                            &#x27;Income_After_Loan&#x27;])])),\n",
       "                                                                                         (&#x27;KNN...\n",
       "                                                                          &#x27;Married&#x27;,\n",
       "                                                                          &#x27;Education&#x27;,\n",
       "                                                                          &#x27;Self_Employed&#x27;,\n",
       "                                                                          &#x27;Property_Area&#x27;])])),\n",
       "                                       (&#x27;SMOTETomek&#x27;,\n",
       "                                        SMOTETomek(random_state=1,\n",
       "                                                   sampling_strategy={0: 300,\n",
       "                                                                      1: 422})),\n",
       "                                       (&#x27;Model&#x27;, DecisionTreeClassifier())]),\n",
       "             n_jobs=-1,\n",
       "             param_grid=[{&#x27;Model__criterion&#x27;: [&#x27;gini&#x27;, &#x27;entropy&#x27;],\n",
       "                          &#x27;Model__max_depth&#x27;: [8, 9, 10, 11],\n",
       "                          &#x27;Model__min_samples_split&#x27;: [6, 7, 8, 9, 10, 11]}],\n",
       "             return_train_score=True, scoring=&#x27;precision&#x27;)</pre></div></div></div><div class=\"sk-parallel\"><div class=\"sk-parallel-item\"><div class=\"sk-item\"><div class=\"sk-label-container\"><div class=\"sk-label sk-toggleable\"><input class=\"sk-toggleable__control sk-hidden--visually\" id=\"sk-estimator-id-652\" type=\"checkbox\" ><label for=\"sk-estimator-id-652\" class=\"sk-toggleable__label sk-toggleable__label-arrow\">estimator: Pipeline</label><div class=\"sk-toggleable__content\"><pre>Pipeline(steps=[(&#x27;Preprocessor&#x27;,\n",
       "                 ColumnTransformer(remainder=&#x27;passthrough&#x27;,\n",
       "                                   transformers=[(&#x27;Num_pipeline&#x27;,\n",
       "                                                  Pipeline(steps=[(&#x27;transformer&#x27;,\n",
       "                                                                   ColumnTransformer(remainder=&#x27;passthrough&#x27;,\n",
       "                                                                                     transformers=[(&#x27;log_transformer&#x27;,\n",
       "                                                                                                    FunctionTransformer(func=&lt;function Get_Log at 0x000001BF48E083A0&gt;),\n",
       "                                                                                                    [&#x27;Loan_Per_Month&#x27;,\n",
       "                                                                                                     &#x27;Income_After_Loan&#x27;])])),\n",
       "                                                                  (&#x27;KNN_Imputer&#x27;,\n",
       "                                                                   KNNImputer()),\n",
       "                                                                  (&#x27;Sc...\n",
       "                                                   &#x27;Income_Exceeds_Loan&#x27;]),\n",
       "                                                 (&#x27;Cat_pipeline&#x27;,\n",
       "                                                  Pipeline(steps=[(&#x27;Cat_Imputer&#x27;,\n",
       "                                                                   SimpleImputer(strategy=&#x27;most_frequent&#x27;)),\n",
       "                                                                  (&#x27;Encoder&#x27;,\n",
       "                                                                   OneHotEncoder(drop=&#x27;first&#x27;,\n",
       "                                                                                 sparse_output=False))]),\n",
       "                                                  [&#x27;Gender&#x27;, &#x27;Married&#x27;,\n",
       "                                                   &#x27;Education&#x27;, &#x27;Self_Employed&#x27;,\n",
       "                                                   &#x27;Property_Area&#x27;])])),\n",
       "                (&#x27;SMOTETomek&#x27;,\n",
       "                 SMOTETomek(random_state=1,\n",
       "                            sampling_strategy={0: 300, 1: 422})),\n",
       "                (&#x27;Model&#x27;, DecisionTreeClassifier())])</pre></div></div></div><div class=\"sk-serial\"><div class=\"sk-item\"><div class=\"sk-serial\"><div class=\"sk-item sk-dashed-wrapped\"><div class=\"sk-label-container\"><div class=\"sk-label sk-toggleable\"><input class=\"sk-toggleable__control sk-hidden--visually\" id=\"sk-estimator-id-653\" type=\"checkbox\" ><label for=\"sk-estimator-id-653\" class=\"sk-toggleable__label sk-toggleable__label-arrow\">Preprocessor: ColumnTransformer</label><div class=\"sk-toggleable__content\"><pre>ColumnTransformer(remainder=&#x27;passthrough&#x27;,\n",
       "                  transformers=[(&#x27;Num_pipeline&#x27;,\n",
       "                                 Pipeline(steps=[(&#x27;transformer&#x27;,\n",
       "                                                  ColumnTransformer(remainder=&#x27;passthrough&#x27;,\n",
       "                                                                    transformers=[(&#x27;log_transformer&#x27;,\n",
       "                                                                                   FunctionTransformer(func=&lt;function Get_Log at 0x000001BF48E083A0&gt;),\n",
       "                                                                                   [&#x27;Loan_Per_Month&#x27;,\n",
       "                                                                                    &#x27;Income_After_Loan&#x27;])])),\n",
       "                                                 (&#x27;KNN_Imputer&#x27;, KNNImputer()),\n",
       "                                                 (&#x27;Scaler&#x27;, StandardScaler())]),\n",
       "                                 [&#x27;Dependents&#x27;, &#x27;CoapplicantIncome&#x27;,\n",
       "                                  &#x27;Credit_History&#x27;, &#x27;Loan_Per_Month&#x27;,\n",
       "                                  &#x27;Income_After_Loan&#x27;, &#x27;Income_Exceeds_Loan&#x27;]),\n",
       "                                (&#x27;Cat_pipeline&#x27;,\n",
       "                                 Pipeline(steps=[(&#x27;Cat_Imputer&#x27;,\n",
       "                                                  SimpleImputer(strategy=&#x27;most_frequent&#x27;)),\n",
       "                                                 (&#x27;Encoder&#x27;,\n",
       "                                                  OneHotEncoder(drop=&#x27;first&#x27;,\n",
       "                                                                sparse_output=False))]),\n",
       "                                 [&#x27;Gender&#x27;, &#x27;Married&#x27;, &#x27;Education&#x27;,\n",
       "                                  &#x27;Self_Employed&#x27;, &#x27;Property_Area&#x27;])])</pre></div></div></div><div class=\"sk-parallel\"><div class=\"sk-parallel-item\"><div class=\"sk-item\"><div class=\"sk-label-container\"><div class=\"sk-label sk-toggleable\"><input class=\"sk-toggleable__control sk-hidden--visually\" id=\"sk-estimator-id-654\" type=\"checkbox\" ><label for=\"sk-estimator-id-654\" class=\"sk-toggleable__label sk-toggleable__label-arrow\">Num_pipeline</label><div class=\"sk-toggleable__content\"><pre>[&#x27;Dependents&#x27;, &#x27;CoapplicantIncome&#x27;, &#x27;Credit_History&#x27;, &#x27;Loan_Per_Month&#x27;, &#x27;Income_After_Loan&#x27;, &#x27;Income_Exceeds_Loan&#x27;]</pre></div></div></div><div class=\"sk-serial\"><div class=\"sk-item\"><div class=\"sk-serial\"><div class=\"sk-item sk-dashed-wrapped\"><div class=\"sk-label-container\"><div class=\"sk-label sk-toggleable\"><input class=\"sk-toggleable__control sk-hidden--visually\" id=\"sk-estimator-id-655\" type=\"checkbox\" ><label for=\"sk-estimator-id-655\" class=\"sk-toggleable__label sk-toggleable__label-arrow\">transformer: ColumnTransformer</label><div class=\"sk-toggleable__content\"><pre>ColumnTransformer(remainder=&#x27;passthrough&#x27;,\n",
       "                  transformers=[(&#x27;log_transformer&#x27;,\n",
       "                                 FunctionTransformer(func=&lt;function Get_Log at 0x000001BF48E083A0&gt;),\n",
       "                                 [&#x27;Loan_Per_Month&#x27;, &#x27;Income_After_Loan&#x27;])])</pre></div></div></div><div class=\"sk-parallel\"><div class=\"sk-parallel-item\"><div class=\"sk-item\"><div class=\"sk-label-container\"><div class=\"sk-label sk-toggleable\"><input class=\"sk-toggleable__control sk-hidden--visually\" id=\"sk-estimator-id-656\" type=\"checkbox\" ><label for=\"sk-estimator-id-656\" class=\"sk-toggleable__label sk-toggleable__label-arrow\">log_transformer</label><div class=\"sk-toggleable__content\"><pre>[&#x27;Loan_Per_Month&#x27;, &#x27;Income_After_Loan&#x27;]</pre></div></div></div><div class=\"sk-serial\"><div class=\"sk-item\"><div class=\"sk-estimator sk-toggleable\"><input class=\"sk-toggleable__control sk-hidden--visually\" id=\"sk-estimator-id-657\" type=\"checkbox\" ><label for=\"sk-estimator-id-657\" class=\"sk-toggleable__label sk-toggleable__label-arrow\">FunctionTransformer</label><div class=\"sk-toggleable__content\"><pre>FunctionTransformer(func=&lt;function Get_Log at 0x000001BF48E083A0&gt;)</pre></div></div></div></div></div></div><div class=\"sk-parallel-item\"><div class=\"sk-item\"><div class=\"sk-label-container\"><div class=\"sk-label sk-toggleable\"><input class=\"sk-toggleable__control sk-hidden--visually\" id=\"sk-estimator-id-658\" type=\"checkbox\" ><label for=\"sk-estimator-id-658\" class=\"sk-toggleable__label sk-toggleable__label-arrow\">remainder</label><div class=\"sk-toggleable__content\"><pre></pre></div></div></div><div class=\"sk-serial\"><div class=\"sk-item\"><div class=\"sk-estimator sk-toggleable\"><input class=\"sk-toggleable__control sk-hidden--visually\" id=\"sk-estimator-id-659\" type=\"checkbox\" ><label for=\"sk-estimator-id-659\" class=\"sk-toggleable__label sk-toggleable__label-arrow\">passthrough</label><div class=\"sk-toggleable__content\"><pre>passthrough</pre></div></div></div></div></div></div></div></div><div class=\"sk-item\"><div class=\"sk-estimator sk-toggleable\"><input class=\"sk-toggleable__control sk-hidden--visually\" id=\"sk-estimator-id-660\" type=\"checkbox\" ><label for=\"sk-estimator-id-660\" class=\"sk-toggleable__label sk-toggleable__label-arrow\">KNNImputer</label><div class=\"sk-toggleable__content\"><pre>KNNImputer()</pre></div></div></div><div class=\"sk-item\"><div class=\"sk-estimator sk-toggleable\"><input class=\"sk-toggleable__control sk-hidden--visually\" id=\"sk-estimator-id-661\" type=\"checkbox\" ><label for=\"sk-estimator-id-661\" class=\"sk-toggleable__label sk-toggleable__label-arrow\">StandardScaler</label><div class=\"sk-toggleable__content\"><pre>StandardScaler()</pre></div></div></div></div></div></div></div></div><div class=\"sk-parallel-item\"><div class=\"sk-item\"><div class=\"sk-label-container\"><div class=\"sk-label sk-toggleable\"><input class=\"sk-toggleable__control sk-hidden--visually\" id=\"sk-estimator-id-662\" type=\"checkbox\" ><label for=\"sk-estimator-id-662\" class=\"sk-toggleable__label sk-toggleable__label-arrow\">Cat_pipeline</label><div class=\"sk-toggleable__content\"><pre>[&#x27;Gender&#x27;, &#x27;Married&#x27;, &#x27;Education&#x27;, &#x27;Self_Employed&#x27;, &#x27;Property_Area&#x27;]</pre></div></div></div><div class=\"sk-serial\"><div class=\"sk-item\"><div class=\"sk-serial\"><div class=\"sk-item\"><div class=\"sk-estimator sk-toggleable\"><input class=\"sk-toggleable__control sk-hidden--visually\" id=\"sk-estimator-id-663\" type=\"checkbox\" ><label for=\"sk-estimator-id-663\" class=\"sk-toggleable__label sk-toggleable__label-arrow\">SimpleImputer</label><div class=\"sk-toggleable__content\"><pre>SimpleImputer(strategy=&#x27;most_frequent&#x27;)</pre></div></div></div><div class=\"sk-item\"><div class=\"sk-estimator sk-toggleable\"><input class=\"sk-toggleable__control sk-hidden--visually\" id=\"sk-estimator-id-664\" type=\"checkbox\" ><label for=\"sk-estimator-id-664\" class=\"sk-toggleable__label sk-toggleable__label-arrow\">OneHotEncoder</label><div class=\"sk-toggleable__content\"><pre>OneHotEncoder(drop=&#x27;first&#x27;, sparse_output=False)</pre></div></div></div></div></div></div></div></div><div class=\"sk-parallel-item\"><div class=\"sk-item\"><div class=\"sk-label-container\"><div class=\"sk-label sk-toggleable\"><input class=\"sk-toggleable__control sk-hidden--visually\" id=\"sk-estimator-id-665\" type=\"checkbox\" ><label for=\"sk-estimator-id-665\" class=\"sk-toggleable__label sk-toggleable__label-arrow\">remainder</label><div class=\"sk-toggleable__content\"><pre>[]</pre></div></div></div><div class=\"sk-serial\"><div class=\"sk-item\"><div class=\"sk-estimator sk-toggleable\"><input class=\"sk-toggleable__control sk-hidden--visually\" id=\"sk-estimator-id-666\" type=\"checkbox\" ><label for=\"sk-estimator-id-666\" class=\"sk-toggleable__label sk-toggleable__label-arrow\">passthrough</label><div class=\"sk-toggleable__content\"><pre>passthrough</pre></div></div></div></div></div></div></div></div><div class=\"sk-item\"><div class=\"sk-estimator sk-toggleable\"><input class=\"sk-toggleable__control sk-hidden--visually\" id=\"sk-estimator-id-667\" type=\"checkbox\" ><label for=\"sk-estimator-id-667\" class=\"sk-toggleable__label sk-toggleable__label-arrow\">SMOTETomek</label><div class=\"sk-toggleable__content\"><pre>SMOTETomek(random_state=1, sampling_strategy={0: 300, 1: 422})</pre></div></div></div><div class=\"sk-item\"><div class=\"sk-estimator sk-toggleable\"><input class=\"sk-toggleable__control sk-hidden--visually\" id=\"sk-estimator-id-668\" type=\"checkbox\" ><label for=\"sk-estimator-id-668\" class=\"sk-toggleable__label sk-toggleable__label-arrow\">DecisionTreeClassifier</label><div class=\"sk-toggleable__content\"><pre>DecisionTreeClassifier()</pre></div></div></div></div></div></div></div></div></div></div></div></div>"
      ],
      "text/plain": [
       "GridSearchCV(cv=5,\n",
       "             estimator=Pipeline(steps=[('Preprocessor',\n",
       "                                        ColumnTransformer(remainder='passthrough',\n",
       "                                                          transformers=[('Num_pipeline',\n",
       "                                                                         Pipeline(steps=[('transformer',\n",
       "                                                                                          ColumnTransformer(remainder='passthrough',\n",
       "                                                                                                            transformers=[('log_transformer',\n",
       "                                                                                                                           FunctionTransformer(func=<function Get_Log at 0x000001BF48E083A0>),\n",
       "                                                                                                                           ['Loan_Per_Month',\n",
       "                                                                                                                            'Income_After_Loan'])])),\n",
       "                                                                                         ('KNN...\n",
       "                                                                          'Married',\n",
       "                                                                          'Education',\n",
       "                                                                          'Self_Employed',\n",
       "                                                                          'Property_Area'])])),\n",
       "                                       ('SMOTETomek',\n",
       "                                        SMOTETomek(random_state=1,\n",
       "                                                   sampling_strategy={0: 300,\n",
       "                                                                      1: 422})),\n",
       "                                       ('Model', DecisionTreeClassifier())]),\n",
       "             n_jobs=-1,\n",
       "             param_grid=[{'Model__criterion': ['gini', 'entropy'],\n",
       "                          'Model__max_depth': [8, 9, 10, 11],\n",
       "                          'Model__min_samples_split': [6, 7, 8, 9, 10, 11]}],\n",
       "             return_train_score=True, scoring='precision')"
      ]
     },
     "execution_count": 415,
     "metadata": {},
     "output_type": "execute_result"
    }
   ],
   "source": [
    "grid.fit(X,Y)"
   ]
  },
  {
   "cell_type": "code",
   "execution_count": 416,
   "id": "fc04b01d",
   "metadata": {},
   "outputs": [
    {
     "data": {
      "text/plain": [
       "{'Model__criterion': 'gini',\n",
       " 'Model__max_depth': 10,\n",
       " 'Model__min_samples_split': 11}"
      ]
     },
     "execution_count": 416,
     "metadata": {},
     "output_type": "execute_result"
    }
   ],
   "source": [
    "grid.best_params_"
   ]
  },
  {
   "cell_type": "code",
   "execution_count": 417,
   "id": "7c4b8fe8",
   "metadata": {},
   "outputs": [
    {
     "data": {
      "text/plain": [
       "0.9190090006405794"
      ]
     },
     "execution_count": 417,
     "metadata": {},
     "output_type": "execute_result"
    }
   ],
   "source": [
    "grid.cv_results_['mean_train_score'][grid.best_index_]"
   ]
  },
  {
   "cell_type": "code",
   "execution_count": 418,
   "id": "80229ffc",
   "metadata": {},
   "outputs": [
    {
     "data": {
      "text/plain": [
       "0.8164306272353551"
      ]
     },
     "execution_count": 418,
     "metadata": {},
     "output_type": "execute_result"
    }
   ],
   "source": [
    "grid.cv_results_['mean_test_score'][grid.best_index_]"
   ]
  },
  {
   "cell_type": "markdown",
   "id": "22855e1b",
   "metadata": {},
   "source": [
    "<span style=\"color:#2929a3;font-size:20px;\">Final Model</span>"
   ]
  },
  {
   "cell_type": "code",
   "execution_count": 419,
   "id": "5153ca83",
   "metadata": {},
   "outputs": [],
   "source": [
    "Final_Model = grid.best_estimator_"
   ]
  },
  {
   "cell_type": "code",
   "execution_count": 420,
   "id": "1bd3c2ab",
   "metadata": {},
   "outputs": [
    {
     "name": "stderr",
     "output_type": "stream",
     "text": [
      "C:\\Users\\NOTEBOOK\\anaconda3\\envs\\ML\\lib\\site-packages\\pandas\\core\\internals\\blocks.py:366: RuntimeWarning: invalid value encountered in log\n",
      "  result = func(self.values, **kwargs)\n"
     ]
    },
    {
     "data": {
      "text/html": [
       "<style>#sk-container-id-44 {color: black;background-color: white;}#sk-container-id-44 pre{padding: 0;}#sk-container-id-44 div.sk-toggleable {background-color: white;}#sk-container-id-44 label.sk-toggleable__label {cursor: pointer;display: block;width: 100%;margin-bottom: 0;padding: 0.3em;box-sizing: border-box;text-align: center;}#sk-container-id-44 label.sk-toggleable__label-arrow:before {content: \"▸\";float: left;margin-right: 0.25em;color: #696969;}#sk-container-id-44 label.sk-toggleable__label-arrow:hover:before {color: black;}#sk-container-id-44 div.sk-estimator:hover label.sk-toggleable__label-arrow:before {color: black;}#sk-container-id-44 div.sk-toggleable__content {max-height: 0;max-width: 0;overflow: hidden;text-align: left;background-color: #f0f8ff;}#sk-container-id-44 div.sk-toggleable__content pre {margin: 0.2em;color: black;border-radius: 0.25em;background-color: #f0f8ff;}#sk-container-id-44 input.sk-toggleable__control:checked~div.sk-toggleable__content {max-height: 200px;max-width: 100%;overflow: auto;}#sk-container-id-44 input.sk-toggleable__control:checked~label.sk-toggleable__label-arrow:before {content: \"▾\";}#sk-container-id-44 div.sk-estimator input.sk-toggleable__control:checked~label.sk-toggleable__label {background-color: #d4ebff;}#sk-container-id-44 div.sk-label input.sk-toggleable__control:checked~label.sk-toggleable__label {background-color: #d4ebff;}#sk-container-id-44 input.sk-hidden--visually {border: 0;clip: rect(1px 1px 1px 1px);clip: rect(1px, 1px, 1px, 1px);height: 1px;margin: -1px;overflow: hidden;padding: 0;position: absolute;width: 1px;}#sk-container-id-44 div.sk-estimator {font-family: monospace;background-color: #f0f8ff;border: 1px dotted black;border-radius: 0.25em;box-sizing: border-box;margin-bottom: 0.5em;}#sk-container-id-44 div.sk-estimator:hover {background-color: #d4ebff;}#sk-container-id-44 div.sk-parallel-item::after {content: \"\";width: 100%;border-bottom: 1px solid gray;flex-grow: 1;}#sk-container-id-44 div.sk-label:hover label.sk-toggleable__label {background-color: #d4ebff;}#sk-container-id-44 div.sk-serial::before {content: \"\";position: absolute;border-left: 1px solid gray;box-sizing: border-box;top: 0;bottom: 0;left: 50%;z-index: 0;}#sk-container-id-44 div.sk-serial {display: flex;flex-direction: column;align-items: center;background-color: white;padding-right: 0.2em;padding-left: 0.2em;position: relative;}#sk-container-id-44 div.sk-item {position: relative;z-index: 1;}#sk-container-id-44 div.sk-parallel {display: flex;align-items: stretch;justify-content: center;background-color: white;position: relative;}#sk-container-id-44 div.sk-item::before, #sk-container-id-44 div.sk-parallel-item::before {content: \"\";position: absolute;border-left: 1px solid gray;box-sizing: border-box;top: 0;bottom: 0;left: 50%;z-index: -1;}#sk-container-id-44 div.sk-parallel-item {display: flex;flex-direction: column;z-index: 1;position: relative;background-color: white;}#sk-container-id-44 div.sk-parallel-item:first-child::after {align-self: flex-end;width: 50%;}#sk-container-id-44 div.sk-parallel-item:last-child::after {align-self: flex-start;width: 50%;}#sk-container-id-44 div.sk-parallel-item:only-child::after {width: 0;}#sk-container-id-44 div.sk-dashed-wrapped {border: 1px dashed gray;margin: 0 0.4em 0.5em 0.4em;box-sizing: border-box;padding-bottom: 0.4em;background-color: white;}#sk-container-id-44 div.sk-label label {font-family: monospace;font-weight: bold;display: inline-block;line-height: 1.2em;}#sk-container-id-44 div.sk-label-container {text-align: center;}#sk-container-id-44 div.sk-container {/* jupyter's `normalize.less` sets `[hidden] { display: none; }` but bootstrap.min.css set `[hidden] { display: none !important; }` so we also need the `!important` here to be able to override the default hidden behavior on the sphinx rendered scikit-learn.org. See: https://github.com/scikit-learn/scikit-learn/issues/21755 */display: inline-block !important;position: relative;}#sk-container-id-44 div.sk-text-repr-fallback {display: none;}</style><div id=\"sk-container-id-44\" class=\"sk-top-container\"><div class=\"sk-text-repr-fallback\"><pre>Pipeline(steps=[(&#x27;Preprocessor&#x27;,\n",
       "                 ColumnTransformer(remainder=&#x27;passthrough&#x27;,\n",
       "                                   transformers=[(&#x27;Num_pipeline&#x27;,\n",
       "                                                  Pipeline(steps=[(&#x27;transformer&#x27;,\n",
       "                                                                   ColumnTransformer(remainder=&#x27;passthrough&#x27;,\n",
       "                                                                                     transformers=[(&#x27;log_transformer&#x27;,\n",
       "                                                                                                    FunctionTransformer(func=&lt;function Get_Log at 0x000001BF48E083A0&gt;),\n",
       "                                                                                                    [&#x27;Loan_Per_Month&#x27;,\n",
       "                                                                                                     &#x27;Income_After_Loan&#x27;])])),\n",
       "                                                                  (&#x27;KNN_Imputer&#x27;,\n",
       "                                                                   KNNImputer()),\n",
       "                                                                  (&#x27;Sc...\n",
       "                                                 (&#x27;Cat_pipeline&#x27;,\n",
       "                                                  Pipeline(steps=[(&#x27;Cat_Imputer&#x27;,\n",
       "                                                                   SimpleImputer(strategy=&#x27;most_frequent&#x27;)),\n",
       "                                                                  (&#x27;Encoder&#x27;,\n",
       "                                                                   OneHotEncoder(drop=&#x27;first&#x27;,\n",
       "                                                                                 sparse_output=False))]),\n",
       "                                                  [&#x27;Gender&#x27;, &#x27;Married&#x27;,\n",
       "                                                   &#x27;Education&#x27;, &#x27;Self_Employed&#x27;,\n",
       "                                                   &#x27;Property_Area&#x27;])])),\n",
       "                (&#x27;SMOTETomek&#x27;,\n",
       "                 SMOTETomek(random_state=1,\n",
       "                            sampling_strategy={0: 300, 1: 422})),\n",
       "                (&#x27;Model&#x27;,\n",
       "                 DecisionTreeClassifier(max_depth=10, min_samples_split=11))])</pre><b>In a Jupyter environment, please rerun this cell to show the HTML representation or trust the notebook. <br />On GitHub, the HTML representation is unable to render, please try loading this page with nbviewer.org.</b></div><div class=\"sk-container\" hidden><div class=\"sk-item sk-dashed-wrapped\"><div class=\"sk-label-container\"><div class=\"sk-label sk-toggleable\"><input class=\"sk-toggleable__control sk-hidden--visually\" id=\"sk-estimator-id-669\" type=\"checkbox\" ><label for=\"sk-estimator-id-669\" class=\"sk-toggleable__label sk-toggleable__label-arrow\">Pipeline</label><div class=\"sk-toggleable__content\"><pre>Pipeline(steps=[(&#x27;Preprocessor&#x27;,\n",
       "                 ColumnTransformer(remainder=&#x27;passthrough&#x27;,\n",
       "                                   transformers=[(&#x27;Num_pipeline&#x27;,\n",
       "                                                  Pipeline(steps=[(&#x27;transformer&#x27;,\n",
       "                                                                   ColumnTransformer(remainder=&#x27;passthrough&#x27;,\n",
       "                                                                                     transformers=[(&#x27;log_transformer&#x27;,\n",
       "                                                                                                    FunctionTransformer(func=&lt;function Get_Log at 0x000001BF48E083A0&gt;),\n",
       "                                                                                                    [&#x27;Loan_Per_Month&#x27;,\n",
       "                                                                                                     &#x27;Income_After_Loan&#x27;])])),\n",
       "                                                                  (&#x27;KNN_Imputer&#x27;,\n",
       "                                                                   KNNImputer()),\n",
       "                                                                  (&#x27;Sc...\n",
       "                                                 (&#x27;Cat_pipeline&#x27;,\n",
       "                                                  Pipeline(steps=[(&#x27;Cat_Imputer&#x27;,\n",
       "                                                                   SimpleImputer(strategy=&#x27;most_frequent&#x27;)),\n",
       "                                                                  (&#x27;Encoder&#x27;,\n",
       "                                                                   OneHotEncoder(drop=&#x27;first&#x27;,\n",
       "                                                                                 sparse_output=False))]),\n",
       "                                                  [&#x27;Gender&#x27;, &#x27;Married&#x27;,\n",
       "                                                   &#x27;Education&#x27;, &#x27;Self_Employed&#x27;,\n",
       "                                                   &#x27;Property_Area&#x27;])])),\n",
       "                (&#x27;SMOTETomek&#x27;,\n",
       "                 SMOTETomek(random_state=1,\n",
       "                            sampling_strategy={0: 300, 1: 422})),\n",
       "                (&#x27;Model&#x27;,\n",
       "                 DecisionTreeClassifier(max_depth=10, min_samples_split=11))])</pre></div></div></div><div class=\"sk-serial\"><div class=\"sk-item sk-dashed-wrapped\"><div class=\"sk-label-container\"><div class=\"sk-label sk-toggleable\"><input class=\"sk-toggleable__control sk-hidden--visually\" id=\"sk-estimator-id-670\" type=\"checkbox\" ><label for=\"sk-estimator-id-670\" class=\"sk-toggleable__label sk-toggleable__label-arrow\">Preprocessor: ColumnTransformer</label><div class=\"sk-toggleable__content\"><pre>ColumnTransformer(remainder=&#x27;passthrough&#x27;,\n",
       "                  transformers=[(&#x27;Num_pipeline&#x27;,\n",
       "                                 Pipeline(steps=[(&#x27;transformer&#x27;,\n",
       "                                                  ColumnTransformer(remainder=&#x27;passthrough&#x27;,\n",
       "                                                                    transformers=[(&#x27;log_transformer&#x27;,\n",
       "                                                                                   FunctionTransformer(func=&lt;function Get_Log at 0x000001BF48E083A0&gt;),\n",
       "                                                                                   [&#x27;Loan_Per_Month&#x27;,\n",
       "                                                                                    &#x27;Income_After_Loan&#x27;])])),\n",
       "                                                 (&#x27;KNN_Imputer&#x27;, KNNImputer()),\n",
       "                                                 (&#x27;Scaler&#x27;, StandardScaler())]),\n",
       "                                 [&#x27;Dependents&#x27;, &#x27;CoapplicantIncome&#x27;,\n",
       "                                  &#x27;Credit_History&#x27;, &#x27;Loan_Per_Month&#x27;,\n",
       "                                  &#x27;Income_After_Loan&#x27;, &#x27;Income_Exceeds_Loan&#x27;]),\n",
       "                                (&#x27;Cat_pipeline&#x27;,\n",
       "                                 Pipeline(steps=[(&#x27;Cat_Imputer&#x27;,\n",
       "                                                  SimpleImputer(strategy=&#x27;most_frequent&#x27;)),\n",
       "                                                 (&#x27;Encoder&#x27;,\n",
       "                                                  OneHotEncoder(drop=&#x27;first&#x27;,\n",
       "                                                                sparse_output=False))]),\n",
       "                                 [&#x27;Gender&#x27;, &#x27;Married&#x27;, &#x27;Education&#x27;,\n",
       "                                  &#x27;Self_Employed&#x27;, &#x27;Property_Area&#x27;])])</pre></div></div></div><div class=\"sk-parallel\"><div class=\"sk-parallel-item\"><div class=\"sk-item\"><div class=\"sk-label-container\"><div class=\"sk-label sk-toggleable\"><input class=\"sk-toggleable__control sk-hidden--visually\" id=\"sk-estimator-id-671\" type=\"checkbox\" ><label for=\"sk-estimator-id-671\" class=\"sk-toggleable__label sk-toggleable__label-arrow\">Num_pipeline</label><div class=\"sk-toggleable__content\"><pre>[&#x27;Dependents&#x27;, &#x27;CoapplicantIncome&#x27;, &#x27;Credit_History&#x27;, &#x27;Loan_Per_Month&#x27;, &#x27;Income_After_Loan&#x27;, &#x27;Income_Exceeds_Loan&#x27;]</pre></div></div></div><div class=\"sk-serial\"><div class=\"sk-item\"><div class=\"sk-serial\"><div class=\"sk-item sk-dashed-wrapped\"><div class=\"sk-label-container\"><div class=\"sk-label sk-toggleable\"><input class=\"sk-toggleable__control sk-hidden--visually\" id=\"sk-estimator-id-672\" type=\"checkbox\" ><label for=\"sk-estimator-id-672\" class=\"sk-toggleable__label sk-toggleable__label-arrow\">transformer: ColumnTransformer</label><div class=\"sk-toggleable__content\"><pre>ColumnTransformer(remainder=&#x27;passthrough&#x27;,\n",
       "                  transformers=[(&#x27;log_transformer&#x27;,\n",
       "                                 FunctionTransformer(func=&lt;function Get_Log at 0x000001BF48E083A0&gt;),\n",
       "                                 [&#x27;Loan_Per_Month&#x27;, &#x27;Income_After_Loan&#x27;])])</pre></div></div></div><div class=\"sk-parallel\"><div class=\"sk-parallel-item\"><div class=\"sk-item\"><div class=\"sk-label-container\"><div class=\"sk-label sk-toggleable\"><input class=\"sk-toggleable__control sk-hidden--visually\" id=\"sk-estimator-id-673\" type=\"checkbox\" ><label for=\"sk-estimator-id-673\" class=\"sk-toggleable__label sk-toggleable__label-arrow\">log_transformer</label><div class=\"sk-toggleable__content\"><pre>[&#x27;Loan_Per_Month&#x27;, &#x27;Income_After_Loan&#x27;]</pre></div></div></div><div class=\"sk-serial\"><div class=\"sk-item\"><div class=\"sk-estimator sk-toggleable\"><input class=\"sk-toggleable__control sk-hidden--visually\" id=\"sk-estimator-id-674\" type=\"checkbox\" ><label for=\"sk-estimator-id-674\" class=\"sk-toggleable__label sk-toggleable__label-arrow\">FunctionTransformer</label><div class=\"sk-toggleable__content\"><pre>FunctionTransformer(func=&lt;function Get_Log at 0x000001BF48E083A0&gt;)</pre></div></div></div></div></div></div><div class=\"sk-parallel-item\"><div class=\"sk-item\"><div class=\"sk-label-container\"><div class=\"sk-label sk-toggleable\"><input class=\"sk-toggleable__control sk-hidden--visually\" id=\"sk-estimator-id-675\" type=\"checkbox\" ><label for=\"sk-estimator-id-675\" class=\"sk-toggleable__label sk-toggleable__label-arrow\">remainder</label><div class=\"sk-toggleable__content\"><pre></pre></div></div></div><div class=\"sk-serial\"><div class=\"sk-item\"><div class=\"sk-estimator sk-toggleable\"><input class=\"sk-toggleable__control sk-hidden--visually\" id=\"sk-estimator-id-676\" type=\"checkbox\" ><label for=\"sk-estimator-id-676\" class=\"sk-toggleable__label sk-toggleable__label-arrow\">passthrough</label><div class=\"sk-toggleable__content\"><pre>passthrough</pre></div></div></div></div></div></div></div></div><div class=\"sk-item\"><div class=\"sk-estimator sk-toggleable\"><input class=\"sk-toggleable__control sk-hidden--visually\" id=\"sk-estimator-id-677\" type=\"checkbox\" ><label for=\"sk-estimator-id-677\" class=\"sk-toggleable__label sk-toggleable__label-arrow\">KNNImputer</label><div class=\"sk-toggleable__content\"><pre>KNNImputer()</pre></div></div></div><div class=\"sk-item\"><div class=\"sk-estimator sk-toggleable\"><input class=\"sk-toggleable__control sk-hidden--visually\" id=\"sk-estimator-id-678\" type=\"checkbox\" ><label for=\"sk-estimator-id-678\" class=\"sk-toggleable__label sk-toggleable__label-arrow\">StandardScaler</label><div class=\"sk-toggleable__content\"><pre>StandardScaler()</pre></div></div></div></div></div></div></div></div><div class=\"sk-parallel-item\"><div class=\"sk-item\"><div class=\"sk-label-container\"><div class=\"sk-label sk-toggleable\"><input class=\"sk-toggleable__control sk-hidden--visually\" id=\"sk-estimator-id-679\" type=\"checkbox\" ><label for=\"sk-estimator-id-679\" class=\"sk-toggleable__label sk-toggleable__label-arrow\">Cat_pipeline</label><div class=\"sk-toggleable__content\"><pre>[&#x27;Gender&#x27;, &#x27;Married&#x27;, &#x27;Education&#x27;, &#x27;Self_Employed&#x27;, &#x27;Property_Area&#x27;]</pre></div></div></div><div class=\"sk-serial\"><div class=\"sk-item\"><div class=\"sk-serial\"><div class=\"sk-item\"><div class=\"sk-estimator sk-toggleable\"><input class=\"sk-toggleable__control sk-hidden--visually\" id=\"sk-estimator-id-680\" type=\"checkbox\" ><label for=\"sk-estimator-id-680\" class=\"sk-toggleable__label sk-toggleable__label-arrow\">SimpleImputer</label><div class=\"sk-toggleable__content\"><pre>SimpleImputer(strategy=&#x27;most_frequent&#x27;)</pre></div></div></div><div class=\"sk-item\"><div class=\"sk-estimator sk-toggleable\"><input class=\"sk-toggleable__control sk-hidden--visually\" id=\"sk-estimator-id-681\" type=\"checkbox\" ><label for=\"sk-estimator-id-681\" class=\"sk-toggleable__label sk-toggleable__label-arrow\">OneHotEncoder</label><div class=\"sk-toggleable__content\"><pre>OneHotEncoder(drop=&#x27;first&#x27;, sparse_output=False)</pre></div></div></div></div></div></div></div></div><div class=\"sk-parallel-item\"><div class=\"sk-item\"><div class=\"sk-label-container\"><div class=\"sk-label sk-toggleable\"><input class=\"sk-toggleable__control sk-hidden--visually\" id=\"sk-estimator-id-682\" type=\"checkbox\" ><label for=\"sk-estimator-id-682\" class=\"sk-toggleable__label sk-toggleable__label-arrow\">remainder</label><div class=\"sk-toggleable__content\"><pre>[]</pre></div></div></div><div class=\"sk-serial\"><div class=\"sk-item\"><div class=\"sk-estimator sk-toggleable\"><input class=\"sk-toggleable__control sk-hidden--visually\" id=\"sk-estimator-id-683\" type=\"checkbox\" ><label for=\"sk-estimator-id-683\" class=\"sk-toggleable__label sk-toggleable__label-arrow\">passthrough</label><div class=\"sk-toggleable__content\"><pre>passthrough</pre></div></div></div></div></div></div></div></div><div class=\"sk-item\"><div class=\"sk-estimator sk-toggleable\"><input class=\"sk-toggleable__control sk-hidden--visually\" id=\"sk-estimator-id-684\" type=\"checkbox\" ><label for=\"sk-estimator-id-684\" class=\"sk-toggleable__label sk-toggleable__label-arrow\">SMOTETomek</label><div class=\"sk-toggleable__content\"><pre>SMOTETomek(random_state=1, sampling_strategy={0: 300, 1: 422})</pre></div></div></div><div class=\"sk-item\"><div class=\"sk-estimator sk-toggleable\"><input class=\"sk-toggleable__control sk-hidden--visually\" id=\"sk-estimator-id-685\" type=\"checkbox\" ><label for=\"sk-estimator-id-685\" class=\"sk-toggleable__label sk-toggleable__label-arrow\">DecisionTreeClassifier</label><div class=\"sk-toggleable__content\"><pre>DecisionTreeClassifier(max_depth=10, min_samples_split=11)</pre></div></div></div></div></div></div></div>"
      ],
      "text/plain": [
       "Pipeline(steps=[('Preprocessor',\n",
       "                 ColumnTransformer(remainder='passthrough',\n",
       "                                   transformers=[('Num_pipeline',\n",
       "                                                  Pipeline(steps=[('transformer',\n",
       "                                                                   ColumnTransformer(remainder='passthrough',\n",
       "                                                                                     transformers=[('log_transformer',\n",
       "                                                                                                    FunctionTransformer(func=<function Get_Log at 0x000001BF48E083A0>),\n",
       "                                                                                                    ['Loan_Per_Month',\n",
       "                                                                                                     'Income_After_Loan'])])),\n",
       "                                                                  ('KNN_Imputer',\n",
       "                                                                   KNNImputer()),\n",
       "                                                                  ('Sc...\n",
       "                                                 ('Cat_pipeline',\n",
       "                                                  Pipeline(steps=[('Cat_Imputer',\n",
       "                                                                   SimpleImputer(strategy='most_frequent')),\n",
       "                                                                  ('Encoder',\n",
       "                                                                   OneHotEncoder(drop='first',\n",
       "                                                                                 sparse_output=False))]),\n",
       "                                                  ['Gender', 'Married',\n",
       "                                                   'Education', 'Self_Employed',\n",
       "                                                   'Property_Area'])])),\n",
       "                ('SMOTETomek',\n",
       "                 SMOTETomek(random_state=1,\n",
       "                            sampling_strategy={0: 300, 1: 422})),\n",
       "                ('Model',\n",
       "                 DecisionTreeClassifier(max_depth=10, min_samples_split=11))])"
      ]
     },
     "execution_count": 420,
     "metadata": {},
     "output_type": "execute_result"
    }
   ],
   "source": [
    "Final_Model.fit(X,Y)"
   ]
  },
  {
   "cell_type": "markdown",
   "id": "16dbcc0b",
   "metadata": {},
   "source": [
    "<span style=\"color:#2929a3;font-size:20px;\">Dump Final Model</span>"
   ]
  },
  {
   "cell_type": "code",
   "execution_count": 421,
   "id": "938f5972",
   "metadata": {},
   "outputs": [
    {
     "data": {
      "text/plain": [
       "['../Data/Model.pkl']"
      ]
     },
     "execution_count": 421,
     "metadata": {},
     "output_type": "execute_result"
    }
   ],
   "source": [
    "import joblib\n",
    "joblib.dump(Final_Model, \"../Data/Model.pkl\")"
   ]
  },
  {
   "cell_type": "markdown",
   "id": "f7528da5",
   "metadata": {},
   "source": [
    "<span style=\"color:#2929a3;font-size:20px;\">Dump Inputs Names</span>"
   ]
  },
  {
   "cell_type": "code",
   "execution_count": 422,
   "id": "48578231",
   "metadata": {},
   "outputs": [
    {
     "data": {
      "text/plain": [
       "['../Data/Inputs.pkl']"
      ]
     },
     "execution_count": 422,
     "metadata": {},
     "output_type": "execute_result"
    }
   ],
   "source": [
    "joblib.dump(X.columns.tolist(), \"../Data/Inputs.pkl\")"
   ]
  },
  {
   "cell_type": "code",
   "execution_count": null,
   "id": "29d226de",
   "metadata": {},
   "outputs": [],
   "source": []
  },
  {
   "cell_type": "code",
   "execution_count": 425,
   "id": "86eff23b",
   "metadata": {},
   "outputs": [
    {
     "data": {
      "text/html": [
       "<div>\n",
       "<style scoped>\n",
       "    .dataframe tbody tr th:only-of-type {\n",
       "        vertical-align: middle;\n",
       "    }\n",
       "\n",
       "    .dataframe tbody tr th {\n",
       "        vertical-align: top;\n",
       "    }\n",
       "\n",
       "    .dataframe thead th {\n",
       "        text-align: right;\n",
       "    }\n",
       "</style>\n",
       "<table border=\"1\" class=\"dataframe\">\n",
       "  <thead>\n",
       "    <tr style=\"text-align: right;\">\n",
       "      <th></th>\n",
       "      <th>Gender</th>\n",
       "      <th>Married</th>\n",
       "      <th>Dependents</th>\n",
       "      <th>Education</th>\n",
       "      <th>Self_Employed</th>\n",
       "      <th>CoapplicantIncome</th>\n",
       "      <th>Credit_History</th>\n",
       "      <th>Property_Area</th>\n",
       "      <th>Loan_Status</th>\n",
       "      <th>Loan_Per_Month</th>\n",
       "      <th>Income_After_Loan</th>\n",
       "      <th>Income_Exceeds_Loan</th>\n",
       "    </tr>\n",
       "  </thead>\n",
       "  <tbody>\n",
       "    <tr>\n",
       "      <th>0</th>\n",
       "      <td>Male</td>\n",
       "      <td>No</td>\n",
       "      <td>0.0</td>\n",
       "      <td>Graduate</td>\n",
       "      <td>No</td>\n",
       "      <td>0.0</td>\n",
       "      <td>1.0</td>\n",
       "      <td>Urban</td>\n",
       "      <td>Y</td>\n",
       "      <td>NaN</td>\n",
       "      <td>NaN</td>\n",
       "      <td>0</td>\n",
       "    </tr>\n",
       "    <tr>\n",
       "      <th>2</th>\n",
       "      <td>Male</td>\n",
       "      <td>Yes</td>\n",
       "      <td>0.0</td>\n",
       "      <td>Graduate</td>\n",
       "      <td>Yes</td>\n",
       "      <td>0.0</td>\n",
       "      <td>1.0</td>\n",
       "      <td>Urban</td>\n",
       "      <td>Y</td>\n",
       "      <td>183.0</td>\n",
       "      <td>2817.0</td>\n",
       "      <td>1</td>\n",
       "    </tr>\n",
       "    <tr>\n",
       "      <th>3</th>\n",
       "      <td>Male</td>\n",
       "      <td>Yes</td>\n",
       "      <td>0.0</td>\n",
       "      <td>Not Graduate</td>\n",
       "      <td>No</td>\n",
       "      <td>2358.0</td>\n",
       "      <td>1.0</td>\n",
       "      <td>Urban</td>\n",
       "      <td>Y</td>\n",
       "      <td>333.0</td>\n",
       "      <td>2250.0</td>\n",
       "      <td>1</td>\n",
       "    </tr>\n",
       "    <tr>\n",
       "      <th>4</th>\n",
       "      <td>Male</td>\n",
       "      <td>No</td>\n",
       "      <td>0.0</td>\n",
       "      <td>Graduate</td>\n",
       "      <td>No</td>\n",
       "      <td>0.0</td>\n",
       "      <td>1.0</td>\n",
       "      <td>Urban</td>\n",
       "      <td>Y</td>\n",
       "      <td>392.0</td>\n",
       "      <td>5608.0</td>\n",
       "      <td>1</td>\n",
       "    </tr>\n",
       "    <tr>\n",
       "      <th>5</th>\n",
       "      <td>Male</td>\n",
       "      <td>Yes</td>\n",
       "      <td>2.0</td>\n",
       "      <td>Graduate</td>\n",
       "      <td>Yes</td>\n",
       "      <td>4196.0</td>\n",
       "      <td>1.0</td>\n",
       "      <td>Urban</td>\n",
       "      <td>Y</td>\n",
       "      <td>742.0</td>\n",
       "      <td>4675.0</td>\n",
       "      <td>1</td>\n",
       "    </tr>\n",
       "    <tr>\n",
       "      <th>...</th>\n",
       "      <td>...</td>\n",
       "      <td>...</td>\n",
       "      <td>...</td>\n",
       "      <td>...</td>\n",
       "      <td>...</td>\n",
       "      <td>...</td>\n",
       "      <td>...</td>\n",
       "      <td>...</td>\n",
       "      <td>...</td>\n",
       "      <td>...</td>\n",
       "      <td>...</td>\n",
       "      <td>...</td>\n",
       "    </tr>\n",
       "    <tr>\n",
       "      <th>607</th>\n",
       "      <td>Male</td>\n",
       "      <td>Yes</td>\n",
       "      <td>0.0</td>\n",
       "      <td>Graduate</td>\n",
       "      <td>No</td>\n",
       "      <td>1950.0</td>\n",
       "      <td>1.0</td>\n",
       "      <td>Rural</td>\n",
       "      <td>Y</td>\n",
       "      <td>300.0</td>\n",
       "      <td>2932.0</td>\n",
       "      <td>1</td>\n",
       "    </tr>\n",
       "    <tr>\n",
       "      <th>608</th>\n",
       "      <td>Female</td>\n",
       "      <td>No</td>\n",
       "      <td>0.0</td>\n",
       "      <td>Graduate</td>\n",
       "      <td>No</td>\n",
       "      <td>0.0</td>\n",
       "      <td>1.0</td>\n",
       "      <td>Rural</td>\n",
       "      <td>Y</td>\n",
       "      <td>197.0</td>\n",
       "      <td>2703.0</td>\n",
       "      <td>1</td>\n",
       "    </tr>\n",
       "    <tr>\n",
       "      <th>609</th>\n",
       "      <td>Male</td>\n",
       "      <td>Yes</td>\n",
       "      <td>3.0</td>\n",
       "      <td>Graduate</td>\n",
       "      <td>No</td>\n",
       "      <td>0.0</td>\n",
       "      <td>1.0</td>\n",
       "      <td>Rural</td>\n",
       "      <td>Y</td>\n",
       "      <td>222.0</td>\n",
       "      <td>3884.0</td>\n",
       "      <td>1</td>\n",
       "    </tr>\n",
       "    <tr>\n",
       "      <th>610</th>\n",
       "      <td>Male</td>\n",
       "      <td>Yes</td>\n",
       "      <td>1.0</td>\n",
       "      <td>Graduate</td>\n",
       "      <td>No</td>\n",
       "      <td>240.0</td>\n",
       "      <td>1.0</td>\n",
       "      <td>Urban</td>\n",
       "      <td>Y</td>\n",
       "      <td>703.0</td>\n",
       "      <td>7369.0</td>\n",
       "      <td>1</td>\n",
       "    </tr>\n",
       "    <tr>\n",
       "      <th>611</th>\n",
       "      <td>Male</td>\n",
       "      <td>Yes</td>\n",
       "      <td>2.0</td>\n",
       "      <td>Graduate</td>\n",
       "      <td>No</td>\n",
       "      <td>0.0</td>\n",
       "      <td>1.0</td>\n",
       "      <td>Urban</td>\n",
       "      <td>Y</td>\n",
       "      <td>519.0</td>\n",
       "      <td>7064.0</td>\n",
       "      <td>1</td>\n",
       "    </tr>\n",
       "  </tbody>\n",
       "</table>\n",
       "<p>422 rows × 12 columns</p>\n",
       "</div>"
      ],
      "text/plain": [
       "     Gender Married  Dependents     Education Self_Employed  \\\n",
       "0      Male      No         0.0      Graduate            No   \n",
       "2      Male     Yes         0.0      Graduate           Yes   \n",
       "3      Male     Yes         0.0  Not Graduate            No   \n",
       "4      Male      No         0.0      Graduate            No   \n",
       "5      Male     Yes         2.0      Graduate           Yes   \n",
       "..      ...     ...         ...           ...           ...   \n",
       "607    Male     Yes         0.0      Graduate            No   \n",
       "608  Female      No         0.0      Graduate            No   \n",
       "609    Male     Yes         3.0      Graduate            No   \n",
       "610    Male     Yes         1.0      Graduate            No   \n",
       "611    Male     Yes         2.0      Graduate            No   \n",
       "\n",
       "     CoapplicantIncome  Credit_History Property_Area Loan_Status  \\\n",
       "0                  0.0             1.0         Urban           Y   \n",
       "2                  0.0             1.0         Urban           Y   \n",
       "3               2358.0             1.0         Urban           Y   \n",
       "4                  0.0             1.0         Urban           Y   \n",
       "5               4196.0             1.0         Urban           Y   \n",
       "..                 ...             ...           ...         ...   \n",
       "607             1950.0             1.0         Rural           Y   \n",
       "608                0.0             1.0         Rural           Y   \n",
       "609                0.0             1.0         Rural           Y   \n",
       "610              240.0             1.0         Urban           Y   \n",
       "611                0.0             1.0         Urban           Y   \n",
       "\n",
       "     Loan_Per_Month  Income_After_Loan  Income_Exceeds_Loan  \n",
       "0               NaN                NaN                    0  \n",
       "2             183.0             2817.0                    1  \n",
       "3             333.0             2250.0                    1  \n",
       "4             392.0             5608.0                    1  \n",
       "5             742.0             4675.0                    1  \n",
       "..              ...                ...                  ...  \n",
       "607           300.0             2932.0                    1  \n",
       "608           197.0             2703.0                    1  \n",
       "609           222.0             3884.0                    1  \n",
       "610           703.0             7369.0                    1  \n",
       "611           519.0             7064.0                    1  \n",
       "\n",
       "[422 rows x 12 columns]"
      ]
     },
     "execution_count": 425,
     "metadata": {},
     "output_type": "execute_result"
    }
   ],
   "source": [
    "df[df['Loan_Status'] == 'Y']"
   ]
  },
  {
   "cell_type": "code",
   "execution_count": null,
   "id": "95f830fa",
   "metadata": {},
   "outputs": [],
   "source": []
  }
 ],
 "metadata": {
  "kernelspec": {
   "display_name": "Python 3 (ipykernel)",
   "language": "python",
   "name": "python3"
  },
  "language_info": {
   "codemirror_mode": {
    "name": "ipython",
    "version": 3
   },
   "file_extension": ".py",
   "mimetype": "text/x-python",
   "name": "python",
   "nbconvert_exporter": "python",
   "pygments_lexer": "ipython3",
   "version": "3.10.8"
  }
 },
 "nbformat": 4,
 "nbformat_minor": 5
}

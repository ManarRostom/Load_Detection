{
 "cells": [
  {
   "cell_type": "markdown",
   "id": "1611d7e4",
   "metadata": {},
   "source": [
    "<center><span style=\"color:#b30000;font-size:40px;\"><strong>Deployment Phase </strong></span></center>\n",
    "</center>"
   ]
  },
  {
   "cell_type": "markdown",
   "id": "19e81fd5",
   "metadata": {},
   "source": [
    "<span style=\"color:#2929a3;font-size:20px;\">Streamlit Cloud Link</span>"
   ]
  },
  {
   "cell_type": "code",
   "execution_count": 49,
   "id": "ea463287",
   "metadata": {},
   "outputs": [],
   "source": [
    "import pandas\n",
    "import numpy\n",
    "import streamlit\n",
    "import sklearn\n",
    "import imblearn\n",
    "import joblib"
   ]
  },
  {
   "cell_type": "code",
   "execution_count": 50,
   "id": "be26ea98",
   "metadata": {},
   "outputs": [
    {
     "name": "stdout",
     "output_type": "stream",
     "text": [
      "2.1.4\n"
     ]
    }
   ],
   "source": [
    "print(pandas.__version__)"
   ]
  },
  {
   "cell_type": "code",
   "execution_count": 51,
   "id": "056aa104",
   "metadata": {},
   "outputs": [
    {
     "name": "stdout",
     "output_type": "stream",
     "text": [
      "1.24.2\n"
     ]
    }
   ],
   "source": [
    "print(numpy.__version__)"
   ]
  },
  {
   "cell_type": "code",
   "execution_count": 52,
   "id": "31b5d420",
   "metadata": {},
   "outputs": [
    {
     "name": "stdout",
     "output_type": "stream",
     "text": [
      "1.23.1\n"
     ]
    }
   ],
   "source": [
    "print(streamlit.__version__)"
   ]
  },
  {
   "cell_type": "code",
   "execution_count": 53,
   "id": "24488393",
   "metadata": {},
   "outputs": [
    {
     "name": "stdout",
     "output_type": "stream",
     "text": [
      "1.2.2\n"
     ]
    }
   ],
   "source": [
    "print(sklearn.__version__)"
   ]
  },
  {
   "cell_type": "code",
   "execution_count": 54,
   "id": "51c207c4",
   "metadata": {},
   "outputs": [
    {
     "name": "stdout",
     "output_type": "stream",
     "text": [
      "0.11.0\n"
     ]
    }
   ],
   "source": [
    "print(imblearn.__version__)"
   ]
  },
  {
   "cell_type": "code",
   "execution_count": 55,
   "id": "861628e3",
   "metadata": {},
   "outputs": [
    {
     "name": "stdout",
     "output_type": "stream",
     "text": [
      "1.2.0\n"
     ]
    }
   ],
   "source": [
    "print(joblib.__version__)"
   ]
  },
  {
   "cell_type": "markdown",
   "id": "3fec0d4f",
   "metadata": {},
   "source": [
    "<span style=\"color:#2929a3;font-size:20px;\">Streamlit Cloud Code</span>"
   ]
  },
  {
   "cell_type": "code",
   "execution_count": 46,
   "id": "09d65bc5",
   "metadata": {},
   "outputs": [
    {
     "name": "stdout",
     "output_type": "stream",
     "text": [
      "Overwriting Deployment.py\n"
     ]
    }
   ],
   "source": [
    "%%writefile Deployment.py\n",
    "\n",
    "import pandas as pd\n",
    "import numpy as np\n",
    "import streamlit as st\n",
    "import sklearn\n",
    "import imblearn\n",
    "import joblib\n",
    "\n",
    "## Create Get_Log Function\n",
    "def Get_Log(v):\n",
    "    return np.log(v.astype(float))\n",
    "\n",
    "Model = joblib.load('../Data/Model.pkl')\n",
    "Inputs = joblib.load('../Data/Inputs.pkl')\n",
    "\n",
    "def Predict(Gender, Married, Dependents, Education, Self_Employed, CoapplicantIncome, Credit_History, Property_Area, Loan_Per_Month, Income_After_Loan, Income_Exceeds_Loan):\n",
    "    df_test = pd.DataFrame(columns=Inputs)\n",
    "    df_test.at[0,'Gender'] = Gender\n",
    "    df_test.at[0,'Married'] = Married\n",
    "    df_test.at[0,'Dependents'] = Dependents\n",
    "    df_test.at[0,'Education'] = Education\n",
    "    df_test.at[0,'Self_Employed'] = Self_Employed\n",
    "    \n",
    "    df_test.at[0,'CoapplicantIncome'] = CoapplicantIncome\n",
    "    df_test.at[0,'Credit_History'] = Credit_History\n",
    "    df_test.at[0,'Property_Area'] = Property_Area\n",
    "    df_test.at[0,'Loan_Per_Month'] = Loan_Per_Month\n",
    "    df_test.at[0,'Income_After_Loan'] = Income_After_Loan\n",
    "    df_test.at[0,'Income_Exceeds_Loan'] = Income_Exceeds_Loan\n",
    "    \n",
    "    res = Model.predict(df_test)\n",
    "    return res[0]\n",
    "    \n",
    "    \n",
    "def Main():\n",
    "    st.markdown('<p style=\"font-size:50px;text-align:center;\"><strong>Loan Detection</strong></p>',unsafe_allow_html=True)\n",
    "    Gender = st.selectbox('Gender', ['Male', 'Female'])\n",
    "    Married = st.selectbox('Married',['Yes','No'])\n",
    "    Dependents = st.selectbox('Number of Dependents',[0,1,2,3])\n",
    "    Education = st.selectbox('Education',['Graduate', 'Not Graduate'])\n",
    "    Self_Employed = st.selectbox('Self_Employed',['Yes','No'])\n",
    "    ApplicantIncome = st.slider(\"ApplicantIncome \",min_value=100, max_value=90000, step=100, value=10000)\n",
    "    CoapplicantIncome = st.slider(\"CoapplicantIncome \",min_value=0, max_value=90000, step=10, value=10000)\n",
    "    LoanAmount = st.slider(\"LoanAmount \",min_value=20000, max_value=900000, step=10, value=30000)\n",
    "    Loan_Amount_Term = st.slider(\"Loan_Amount_Term \",min_value=10, max_value=500, step=1, value=100)\n",
    "    Credit_History = st.selectbox('Credit History',[0,1])\n",
    "    Property_Area = st.selectbox('Property Area',['Urban', 'Rural', 'Semiurban'])\n",
    "    ## Feature Engineering\n",
    "    ## Calculate Loan_Per_Month\n",
    "    Loan_Per_Month = LoanAmount / Loan_Amount_Term\n",
    "    Loan_Per_Month = np.round(Loan_Per_Month,0)\n",
    "    \n",
    "    ## Calculate Income_After_Loan\n",
    "    Income_After_Loan = ApplicantIncome - Loan_Per_Month\n",
    "    \n",
    "    ## Extract Income_Exceeds_Loan\n",
    "    if ApplicantIncome > Loan_Per_Month:\n",
    "        Income_Exceeds_Loan= 1\n",
    "    else: \n",
    "        Income_Exceeds_Loan = 0\n",
    "    \n",
    "    ## Call Predict Function\n",
    "    if st.button(\"Predict\"):\n",
    "        res = Predict(Gender, Married, Dependents, Education, Self_Employed, CoapplicantIncome, Credit_History, Property_Area, Loan_Per_Month, Income_After_Loan, Income_Exceeds_Loan)\n",
    "        res_dict = {0:'Refused', 1:'Accepted'}\n",
    "        st.text(f'Your Loan Request is {res_dict[res]}')\n",
    "    \n",
    "    \n",
    "Main()"
   ]
  }
 ],
 "metadata": {
  "kernelspec": {
   "display_name": "Python 3 (ipykernel)",
   "language": "python",
   "name": "python3"
  },
  "language_info": {
   "codemirror_mode": {
    "name": "ipython",
    "version": 3
   },
   "file_extension": ".py",
   "mimetype": "text/x-python",
   "name": "python",
   "nbconvert_exporter": "python",
   "pygments_lexer": "ipython3",
   "version": "3.10.8"
  }
 },
 "nbformat": 4,
 "nbformat_minor": 5
}
